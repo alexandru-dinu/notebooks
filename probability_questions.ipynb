{
 "cells": [
  {
   "cell_type": "markdown",
   "id": "9fe3c995-03ea-416d-a84a-af6bddf67d94",
   "metadata": {},
   "source": [
    "## Probability & Statistics Questions\n",
    "\n",
    "### References\n",
    "- https://huyenchip.com/ml-interviews-book"
   ]
  },
  {
   "cell_type": "code",
   "execution_count": null,
   "id": "6e542bbd-93c0-4bcf-ad12-9b8e5d7eaf41",
   "metadata": {},
   "outputs": [],
   "source": [
    "from dataclasses import dataclass\n",
    "import numpy as np\n",
    "import matplotlib.pyplot as plt\n",
    "import seaborn as sns\n",
    "from typing import *\n",
    "import pandas as pd\n",
    "\n",
    "%matplotlib inline\n",
    "%config InlineBackend.figure_format = 'retina'\n",
    "sns.set()"
   ]
  },
  {
   "cell_type": "markdown",
   "id": "9733578c-086e-4c52-ad54-b79ac0de238e",
   "metadata": {},
   "source": [
    "---"
   ]
  },
  {
   "cell_type": "markdown",
   "id": "a7d530cb-127c-487f-9f02-fbe12567e48b",
   "metadata": {},
   "source": [
    "#### Given $n$ samples from a uniform distribution over $[0,d]$, how do you estimate $d$?\n",
    "Also known as the [German tank problem](https://en.wikipedia.org/wiki/German_tank_problem)"
   ]
  },
  {
   "cell_type": "code",
   "execution_count": null,
   "id": "20c1488e-15de-47c0-b23d-7ac000217b5a",
   "metadata": {},
   "outputs": [],
   "source": [
    "Estimator = Callable[[np.ndarray], float]\n",
    "\n",
    "class World:\n",
    "    def __init__(self, *, d: int, n: int, replacement: bool = False):\n",
    "        self.d = d\n",
    "        self.n = n\n",
    "        self.replacement = replacement\n",
    "        self.estimators: Dict[str, Estimator] = {}\n",
    "    \n",
    "    def add_estimator(self, name: str, est: Estimator):\n",
    "        self.estimators[name] = est\n",
    "    \n",
    "    def run_estimators(self):\n",
    "        xs = np.random.choice(\n",
    "            np.arange(1, self.d+1), \n",
    "            replace=self.replacement, \n",
    "            size=self.n\n",
    "        )\n",
    "        return {name: est(xs) for (name, est) in self.estimators.items()}\n",
    "\n",
    "def mean_estimator(xs: np.ndarray) -> float:\n",
    "    \"\"\"\n",
    "    E[X] = μ = d/2 => 2 * mean(xs) ~ d\n",
    "    \"\"\"\n",
    "    return np.round(2 * np.mean(xs)).astype(int)\n",
    "    \n",
    "def max_estimator(xs: np.ndarray) -> float:\n",
    "    \"\"\"\n",
    "    P(max(xs) != d) = (1 - 1/d) ** len(xs)\n",
    "    \"\"\"\n",
    "    return np.max(xs)\n",
    "\n",
    "def umvu_estimator(xs: np.ndarray) -> float:\n",
    "    m = np.max(xs)\n",
    "    return m + m/len(xs) - 1"
   ]
  },
  {
   "cell_type": "code",
   "execution_count": null,
   "id": "35cc1f77-1ca3-436d-97cc-6d83c93a3e26",
   "metadata": {},
   "outputs": [],
   "source": [
    "d = 100\n",
    "n = 20\n",
    "\n",
    "w = World(d=d, n=n, replacement=False)\n",
    "\n",
    "w.add_estimator('mean', mean_estimator)\n",
    "w.add_estimator('max', max_estimator)\n",
    "w.add_estimator('umvu', umvu_estimator)\n",
    "\n",
    "df = []\n",
    "N = 10_000\n",
    "for _ in range(N):\n",
    "    df.append(w.run_estimators())\n",
    "df = pd.DataFrame(df)"
   ]
  },
  {
   "cell_type": "code",
   "execution_count": null,
   "id": "292cf701-b3fc-426b-8a29-68d25fa0fa57",
   "metadata": {},
   "outputs": [],
   "source": [
    "plt.figure(figsize=(24, 5))\n",
    "\n",
    "plt.subplot(1, 3, 1)\n",
    "df['mean'].hist()\n",
    "plt.subplot(1, 3, 2)\n",
    "df['max'].hist()\n",
    "df['umvu'].hist()"
   ]
  },
  {
   "cell_type": "code",
   "execution_count": null,
   "id": "14a3094c-ad31-4f14-801e-3939eb22ac48",
   "metadata": {},
   "outputs": [],
   "source": []
  }
 ],
 "metadata": {
  "kernelspec": {
   "display_name": "Python 3 (ipykernel)",
   "language": "python",
   "name": "python3"
  },
  "language_info": {
   "codemirror_mode": {
    "name": "ipython",
    "version": 3
   },
   "file_extension": ".py",
   "mimetype": "text/x-python",
   "name": "python",
   "nbconvert_exporter": "python",
   "pygments_lexer": "ipython3",
   "version": "3.8.12"
  }
 },
 "nbformat": 4,
 "nbformat_minor": 5
}
