{
 "cells": [
  {
   "cell_type": "markdown",
   "metadata": {},
   "source": [
    "- $\\mathbf{p}$ defined over $[n]$\n",
    "- test that is $q$ - accurate\n",
    "$$\n",
    "\\begin{align*}\n",
    "P(\\text{out} = i \\ &| \\ \\text{actual} = i) = q \\\\\n",
    "P(\\text{out} \\neq i \\ &| \\ \\text{actual} = i) = 1-q\n",
    "\\end{align*}\n",
    "$$\n",
    "\n",
    "Using Bayes' theorem we find that:\n",
    "$$\n",
    "\\begin{align*}\n",
    "P(\\text{actual} = i \\ | \\ \\text{out} = i) &= \\frac{P(\\text{out} = i \\ | \\ \\text{actual} = i) \\cdot \\mathbf{p}(i)}{P(\\text{out}=i)} \\\\\n",
    "&= \\frac{q \\cdot \\mathbf{p}(i)}{\\sum_{j}P(\\text{out}=i \\ | \\ j) \\cdot \\mathbf{p}(j)} \\\\\n",
    "&= \\frac{q \\cdot \\mathbf{p}(i)}{q \\cdot \\mathbf{p}(i) + \\sum_{j\\neq i}P(\\text{out}=i \\ | \\ j) \\cdot \\mathbf{p}(j)} \\\\\n",
    "&= \\frac{q \\cdot \\mathbf{p}(i)}{q \\cdot \\mathbf{p}(i) + (1-q)(1-\\mathbf{p}(i))}\n",
    "\\end{align*}\n",
    "$$\n"
   ]
  }
 ],
 "metadata": {
  "kernelspec": {
   "display_name": "Python 3",
   "language": "python",
   "name": "python3"
  },
  "language_info": {
   "codemirror_mode": {
    "name": "ipython",
    "version": 3
   },
   "file_extension": ".py",
   "mimetype": "text/x-python",
   "name": "python",
   "nbconvert_exporter": "python",
   "pygments_lexer": "ipython3",
   "version": "3.7.6"
  }
 },
 "nbformat": 4,
 "nbformat_minor": 4
}
