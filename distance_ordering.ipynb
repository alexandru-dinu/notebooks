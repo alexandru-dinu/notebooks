{
 "cells": [
  {
   "cell_type": "markdown",
   "id": "dd398ba5-69fa-4f0b-9d97-5f8c9862af2a",
   "metadata": {},
   "source": [
    "**Claim: Cosine Similarity and $L_2$-normalized Euclidean Distance preserve relative ordering**\n",
    "\n",
    "Let $x, y, z \\in \\mathbb{R}^d$, with unit norm, then: $\\cos(x, y) \\geq \\cos(x, z) \\iff eucl(x, y) < eucl(x, z)$\n",
    "\n",
    "**Proof:**\n",
    "\n",
    "First, note that $eucl(x, y)^2 = \\sum_{i=1}^d (x_i - y_i)^2 = \\sum_{i=1}^d x_i^2 + y_i^2 - 2 \\cdot x_i y_i = ||x||_2^2 + ||y||_2^2 - 2 \\cdot x^\\top y = 2 - 2 \\cdot \\cos(x, y)$\n",
    "\n",
    "$(\\Rightarrow): \\cos(x, y) \\geq \\cos(x, z) \\implies 2 -2 \\cdot \\cos(x, y) < 2 -2 \\cdot \\cos(x, z) \\implies eucl(x,y)^2 < eucl(x, z)^2 \\implies eucl(x, y) < eucl(x, z)$\n",
    "\n",
    "$(\\Leftarrow): eucl(x, y) < eucl(x, z) \\implies 2 - 2\\cdot \\cos(x, y) < 2 -2 \\cdot \\cos(x, z) \\implies \\cos(x, y) \\geq \\cos(x, z)$\n",
    "\n",
    "$\\blacksquare$"
   ]
  },
  {
   "cell_type": "code",
   "execution_count": null,
   "id": "de680f69-e471-4049-a11c-4d4de4fc6b8e",
   "metadata": {},
   "outputs": [],
   "source": [
    "import numpy as np\n",
    "import torch as T\n",
    "import torch.nn.functional as F\n",
    "from tqdm import trange"
   ]
  },
  {
   "cell_type": "code",
   "execution_count": null,
   "id": "3b5ba1e1-225d-4e31-9e5f-37b059b26570",
   "metadata": {},
   "outputs": [],
   "source": [
    "def eucl(x, y):\n",
    "    return T.linalg.norm(F.normalize(x) - F.normalize(y), dim=-1).item()\n",
    "\n",
    "def cos(x, y):\n",
    "    return F.cosine_similarity(x, y).item()"
   ]
  },
  {
   "cell_type": "code",
   "execution_count": null,
   "id": "e0c44b3e-96bf-4594-b185-b0fb7b3c786d",
   "metadata": {},
   "outputs": [],
   "source": [
    "N = 100_000\n",
    "\n",
    "for _ in trange(N):\n",
    "    d = np.random.randint(2, 128 + 1)\n",
    "    p = np.round(np.random.uniform(), 2)\n",
    "    \n",
    "    x, y, z = (T.rand(3, 1, d) - 0.5) * T.bernoulli(p * T.ones(3, 1, d))\n",
    "    \n",
    "    if not T.any(x) or not T.any(y) or not T.any(z):\n",
    "        continue\n",
    "    \n",
    "    cxy = cos(x, y)\n",
    "    cxz = cos(x, z)\n",
    "    exy = eucl(x, y)\n",
    "    exz = eucl(x, z)\n",
    "    \n",
    "    lhs = True if np.isclose(cxy, cxz, rtol=0, atol=1e-6) else cxy > cxz\n",
    "    rhs = True if np.isclose(exy, exz, rtol=0, atol=1e-6) else exy < exz\n",
    "    \n",
    "    if lhs != rhs:\n",
    "        print(f\"{cxy=}, {cxz=}\")\n",
    "        print(f\"{exy=}, {exz=}\")\n",
    "        raise ValueError()"
   ]
  },
  {
   "cell_type": "code",
   "execution_count": null,
   "id": "033688dc-979f-4b3b-bfb4-6933c88b4684",
   "metadata": {},
   "outputs": [],
   "source": []
  }
 ],
 "metadata": {
  "kernelspec": {
   "display_name": "Python 3 (ipykernel)",
   "language": "python",
   "name": "python3"
  },
  "language_info": {
   "codemirror_mode": {
    "name": "ipython",
    "version": 3
   },
   "file_extension": ".py",
   "mimetype": "text/x-python",
   "name": "python",
   "nbconvert_exporter": "python",
   "pygments_lexer": "ipython3",
   "version": "3.8.10"
  }
 },
 "nbformat": 4,
 "nbformat_minor": 5
}
