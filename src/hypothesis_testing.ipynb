{
 "cells": [
  {
   "cell_type": "code",
   "execution_count": null,
   "id": "d130d251-51ce-44db-918b-1265870e78e8",
   "metadata": {},
   "outputs": [],
   "source": [
    "import numpy as np\n",
    "import scipy.stats as stats"
   ]
  },
  {
   "cell_type": "markdown",
   "id": "5f567fe2-91ae-46dc-82ff-a1bedd8aca26",
   "metadata": {},
   "source": [
    "## General procedure"
   ]
  },
  {
   "cell_type": "code",
   "execution_count": null,
   "id": "0bf7ee5c-74fd-4317-bb15-e8a15873d474",
   "metadata": {},
   "outputs": [],
   "source": [
    "\"\"\"\n",
    "significance level α: if (p-value < α) => result is significant\n",
    "\n",
    "p-value: prob. of obtaining results at least as extreme as the observed results (e.g. towards the tails of the dist.)\n",
    "\n",
    "X = test statistic (e.g. F-test)\n",
    "\n",
    "CDF(x) = P(X <= x)\n",
    "PPF(p) = inverse_CDF(p) = x s.t. P(X <= x) = p\n",
    "\n",
    "p-value = P(X > thr) = 1 - CDF(thr)\n",
    "\n",
    "what F-stat value corresponds to the significance level? => critical value\n",
    "    PPF(1 - α) = crit <-- critical value that when exceeded by the obs. statistic, H0 is rejected (at α significance level)\n",
    "    P(X <= crit) = 1 - α\n",
    "    P(X > crit) = α\n",
    "\"\"\"\n",
    "F = stats.f(dfn=1, dfd=8)\n",
    "\n",
    "α = 0.1\n",
    "\n",
    "crit = F.ppf(1 - α)\n",
    "print(f'critical value at {α = } is {crit:.5f}')\n",
    "\n",
    "obs_f_stat = 0.5491\n",
    "# obs_f_stat = 3.8\n",
    "\n",
    "p_value = 1 - F.cdf(obs_f_stat)\n",
    "\n",
    "print(f'Prob. of obtaining results at least as extreme as {crit = :.5f} is {p_value = :.5f} (at significance level {α = })')\n",
    "print()\n",
    "\n",
    "if p_value < α:\n",
    "    print(\"CONCLUSION: significant, reject H0\")\n",
    "else:\n",
    "    print(\"CONCLUSION: NOT significant: don't reject H0\")"
   ]
  },
  {
   "cell_type": "code",
   "execution_count": null,
   "id": "faddcd42-11a8-4299-891e-1e3314588e21",
   "metadata": {},
   "outputs": [],
   "source": [
    "n = 100\n",
    "xs = np.random.choice([0, 1], replace=True, p=[0.5, 0.5], size=n)\n",
    "xs = np.random.choice([0, 1], replace=True, p=[0.1, 1-0.1], size=n)\n",
    "\n",
    "f, p = stats.f_oneway(xs, ys)\n",
    "if p <= 0.1:\n",
    "    print('significant')\n",
    "else:\n",
    "    print('NOT significant')"
   ]
  },
  {
   "cell_type": "markdown",
   "id": "77d9ff99-cd27-4616-8feb-45aa06505c58",
   "metadata": {},
   "source": [
    "--- "
   ]
  },
  {
   "cell_type": "markdown",
   "id": "ed9532b4-834b-4d8c-8fe3-06bd6fb61298",
   "metadata": {},
   "source": [
    "[Reference](https://www.math.arizona.edu/~jwatkins/505d/Lesson_11.pdf)\n",
    "\n",
    "Let's first simplify the problem and only consider a single side of the dice.\n",
    "The experiment follows $\\mathrm{Binomial} \\left( n, p_0 = \\dfrac16 \\right)$\n",
    "\n",
    "$H_0: \\Pr(side = 1) = \\dfrac16$\n",
    "\n",
    "$H_1: \\Pr(side = 1) \\not= \\dfrac16$\n",
    "\n",
    "Mean: $\\mu = n\\cdot p_0$\n",
    "\n",
    "Std: $\\sigma = \\sqrt{n\\cdot p_0 \\cdot (1 - p_0)}$\n",
    "\n",
    "If we want $99\\%$ confidence, we set $P_1 = 2.575$.\n",
    "\n",
    "We reject $H_0 \\iff o \\leq \\mu - P_1\\cdot \\sigma \\lor o \\geq \\mu + P_1 \\cdot \\sigma$,\n",
    "\n",
    "$o$ is the observed number of successes in $n$ trials."
   ]
  },
  {
   "cell_type": "code",
   "execution_count": null,
   "id": "27efc37b-8aff-42dc-ab17-e2e75f21d0e3",
   "metadata": {},
   "outputs": [],
   "source": [
    "n = 1_000_000\n",
    "\n",
    "p0 = 1/6\n",
    "μ = n * p0\n",
    "σ = np.sqrt(n * p0 * (1-p0))\n",
    "P1 = 2.575\n",
    "\n",
    "thr1 = np.floor(μ - P1 * σ).astype(int)\n",
    "thr2 = np.ceil(μ + P1 * σ).astype(int)\n",
    "\n",
    "print(f'Reject H0 iff o <= {thr1} or o >= {thr2}')\n",
    "\n",
    "sides = np.arange(1, 7)\n",
    "\n",
    "o = np.random.choice(sides, size=n, replace=True)\n",
    "count = (o == 1).sum()\n",
    "print(f'  Fair die: {count = } (reject H0: {count <= thr1 or count >= thr2})')\n",
    "\n",
    "p1 = 1 / 6.2\n",
    "o = np.random.choice(sides, size=n, replace=True, p=[p1] + [(1 - p1) / 5] * 5)\n",
    "count = (o == 1).sum()\n",
    "print(f'Biased die: {count = } (reject H0: {count <= thr1 or count >= thr2})')"
   ]
  },
  {
   "cell_type": "code",
   "execution_count": null,
   "id": "c9f54be7-6233-4d38-af44-dc7587c9e339",
   "metadata": {},
   "outputs": [],
   "source": []
  }
 ],
 "metadata": {
  "kernelspec": {
   "display_name": "Python 3",
   "language": "python",
   "name": "python3"
  },
  "language_info": {
   "codemirror_mode": {
    "name": "ipython",
    "version": 3
   },
   "file_extension": ".py",
   "mimetype": "text/x-python",
   "name": "python",
   "nbconvert_exporter": "python",
   "pygments_lexer": "ipython3",
   "version": "3.8.10"
  }
 },
 "nbformat": 4,
 "nbformat_minor": 5
}
