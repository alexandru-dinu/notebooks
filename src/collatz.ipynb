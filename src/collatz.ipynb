{
 "cells": [
  {
   "cell_type": "code",
   "execution_count": null,
   "id": "ff069a34-c4fc-4637-97ba-56cf5cedae35",
   "metadata": {},
   "outputs": [],
   "source": [
    "import time\n",
    "import numpy as np\n",
    "\n",
    "import seaborn as sns\n",
    "import matplotlib.pyplot as plt\n",
    "\n",
    "%matplotlib inline\n",
    "%config InlineBackend.figure_format = 'retina'\n",
    "sns.set()"
   ]
  },
  {
   "cell_type": "code",
   "execution_count": null,
   "id": "19b1e5d1-9038-49ad-8ad6-3bb9c0dd0dd3",
   "metadata": {},
   "outputs": [],
   "source": [
    "def mem(func):\n",
    "    cache = {}\n",
    "    \n",
    "    def inner(x):        \n",
    "        if x not in cache:\n",
    "            cache[x] = func(x)\n",
    "        return cache[x]\n",
    "    \n",
    "    return inner"
   ]
  },
  {
   "cell_type": "code",
   "execution_count": null,
   "id": "f4576c59-5b58-4c58-8d64-e0fa5c7ff7d8",
   "metadata": {},
   "outputs": [],
   "source": [
    "@mem\n",
    "def collatz(x):\n",
    "    if x == 1:\n",
    "        return 0\n",
    "    \n",
    "    if x % 2 == 0:\n",
    "        return 1 + collatz(x // 2)\n",
    "    else:\n",
    "        return 1 + collatz(3 * x + 1)\n",
    "    \n",
    "xs = np.arange(1e3, 1e6)\n",
    "ys = np.fromiter(map(collatz, xs), dtype=int)"
   ]
  },
  {
   "cell_type": "code",
   "execution_count": null,
   "id": "10666e91-e38f-425f-9256-57b867cf259f",
   "metadata": {},
   "outputs": [],
   "source": [
    "plt.figure(figsize=(10, 5))\n",
    "\n",
    "# sns.scatterplot(x=xs, y=ys, facecolor=(0,0,0,0), edgecolor='r')\n",
    "\n",
    "# sns.scatterplot(x=xs, y=np.maximum.accumulate(ys), facecolor=(0,0,0,0), edgecolor='b')\n",
    "plt.plot(np.log10(xs), np.maximum.accumulate(ys), linestyle='--')\n",
    "# plt.xscale('log')\n",
    "\n",
    "# sns.histplot(ys, stat='density', alpha=0.6, bins=32)\n",
    "# sns.kdeplot(ys, bw_adjust=2, lw=2, color='r')\n",
    "\n",
    "pass"
   ]
  },
  {
   "cell_type": "code",
   "execution_count": null,
   "id": "24f098fe-a7b4-41cf-b2e1-c8a35d9b2f05",
   "metadata": {},
   "outputs": [],
   "source": [
    "from sklearn.linear_model import LinearRegression\n",
    "\n",
    "reg = LinearRegression(fit_intercept=True)\n",
    "X = np.log10(xs).reshape(-1, 1)\n",
    "y = np.maximum.accumulate(ys)\n",
    "reg.fit(X, y)\n",
    "\n",
    "m, b = map(lambda x: np.round(x), [reg.coef_.item(), reg.intercept_.item()])\n",
    "\n",
    "plt.figure(figsize=(10, 4))\n",
    "plt.title(f\"{m} $\\log(x)$ {b}\", fontsize=14)\n",
    "plt.plot(xs, y, alpha=0.6)\n",
    "plt.plot(m*X + b, lw=2)\n",
    "plt.xscale('log')\n",
    "plt.xlim(left=xs.min())\n",
    "pass"
   ]
  },
  {
   "cell_type": "code",
   "execution_count": null,
   "id": "e25ecf11-4222-4c68-84c8-107276a29914",
   "metadata": {},
   "outputs": [],
   "source": [
    "f = lambda x: m * np.log10(x) + b\n",
    "\n",
    "f(1e5) - f(1e4)"
   ]
  },
  {
   "cell_type": "code",
   "execution_count": null,
   "id": "77131d58-ca25-49e7-938f-6671b6b0964b",
   "metadata": {},
   "outputs": [],
   "source": [
    "diff = np.maximum.accumulate(ys)\n",
    "plt.plot(diff[1:] - diff[:-1])"
   ]
  },
  {
   "cell_type": "code",
   "execution_count": null,
   "id": "9430b5c2-71dc-492f-91e1-be9a34c90518",
   "metadata": {},
   "outputs": [],
   "source": []
  }
 ],
 "metadata": {
  "kernelspec": {
   "display_name": "Python 3 (ipykernel)",
   "language": "python",
   "name": "python3"
  },
  "language_info": {
   "codemirror_mode": {
    "name": "ipython",
    "version": 3
   },
   "file_extension": ".py",
   "mimetype": "text/x-python",
   "name": "python",
   "nbconvert_exporter": "python",
   "pygments_lexer": "ipython3",
   "version": "3.8.12"
  }
 },
 "nbformat": 4,
 "nbformat_minor": 5
}
