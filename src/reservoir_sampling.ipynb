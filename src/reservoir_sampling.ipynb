{
 "cells": [
  {
   "cell_type": "markdown",
   "id": "9100bdf0-57e2-4eee-8334-1b2526490f76",
   "metadata": {},
   "source": [
    "# Reservoir Sampling\n",
    "\n",
    "Resources\n",
    "- https://www.youtube.com/watch?v=Ybra0uGEkpM\n",
    "- https://en.wikipedia.org/wiki/Reservoir_sampling\n",
    "- https://stats.stackexchange.com/a/488233\n",
    "\n",
    "**Goal:** sample from a stream of size $N$ with or without replacement.\n",
    "\n",
    "**Context:**\n",
    "- $N$ is not known a priori\n",
    "- you cannot collect all items beforehand, because $N$ can be prohibitively large\n",
    "- you are only presented with an item $x_i$ at a given moment in time ($i$-th step), with $1 \\leq i \\leq N$\n",
    "- you can only make a decision (update some _internal state_) based on the current item $x_i$\n",
    "\n",
    "**Guarantee:** at the end of the algorithm, you will obtain an unbiased sample result as you'd do, e.g. with:\n",
    "```python\n",
    "# sample w/o replacement\n",
    "np.random.choice(xs, size=k, replace=False)\n",
    "\n",
    "# sample w/ replacement\n",
    "np.random.choice(xs, size=k, replace=True)\n",
    "\n",
    "# where `xs` would be the entire contents of the stream\n",
    "```"
   ]
  },
  {
   "cell_type": "code",
   "execution_count": null,
   "id": "25c3f353-e3da-453c-b56f-944cc4760da6",
   "metadata": {},
   "outputs": [],
   "source": [
    "import numpy as np\n",
    "from itertools import count\n",
    "from collections import Counter\n",
    "from tqdm.auto import tqdm, trange\n",
    "import matplotlib.pyplot as plt\n",
    "import math"
   ]
  },
  {
   "cell_type": "code",
   "execution_count": null,
   "id": "b1ff5cc9-5a72-48e2-841a-dece7505e3da",
   "metadata": {},
   "outputs": [],
   "source": [
    "def coin(p):\n",
    "    return np.random.binomial(n=1, p=p, size=1).item()\n",
    "\n",
    "\n",
    "def make_stream(num_items):\n",
    "    \"\"\"N distinct items\"\"\"\n",
    "    xs = np.arange(num_items)\n",
    "    np.random.shuffle(xs)\n",
    "    for x in xs:\n",
    "        yield x"
   ]
  },
  {
   "cell_type": "markdown",
   "id": "66f11737-ef84-41ee-8595-5831422a8bae",
   "metadata": {},
   "source": [
    "## `k == 1`"
   ]
  },
  {
   "cell_type": "code",
   "execution_count": null,
   "id": "377295e3-1a09-452b-b181-8a4edde427a2",
   "metadata": {},
   "outputs": [],
   "source": [
    "def rs_once(stream, stop_at):\n",
    "    cell = None\n",
    "\n",
    "    # when i'th item xi arrives, with proba 1/i set R <- xi\n",
    "    for i in range(1, math.ceil(stop_at + 1)):\n",
    "        xi = next(stream)\n",
    "\n",
    "        if coin(1 / i):\n",
    "            cell = xi\n",
    "\n",
    "    assert cell is not None\n",
    "    return cell"
   ]
  },
  {
   "cell_type": "markdown",
   "id": "63d2cdcd-1c51-4ae0-9ff0-676115efd846",
   "metadata": {},
   "source": [
    "At the end of the experiment, each item will be sampled with proba $\\dfrac{1}{\\texttt{num_items}}$"
   ]
  },
  {
   "cell_type": "code",
   "execution_count": null,
   "id": "b7022e28-cc9c-4e72-aa50-044ca0d771f1",
   "metadata": {},
   "outputs": [],
   "source": [
    "# unknown to the user\n",
    "num_items = 100\n",
    "\n",
    "# experimental configs\n",
    "sample_size = 10_000\n",
    "fs = np.linspace(0.1, 1.0, endpoint=True, num=10)\n",
    "\n",
    "plt.figure(figsize=(16, 6))\n",
    "\n",
    "for i, f in enumerate(fs, start=1):\n",
    "    desc = f\"{f=:.2f} ({i}/{len(fs)})\"\n",
    "\n",
    "    xs = [\n",
    "        rs_once(make_stream(num_items), stop_at=(f * num_items))\n",
    "        for _ in trange(sample_size, leave=False, desc=desc)\n",
    "    ]\n",
    "\n",
    "    plt.subplot(len(fs) // 5, 5, i)\n",
    "    plt.hist(xs, weights=None, rwidth=0.75, align=\"mid\")\n",
    "    plt.title(desc)\n",
    "\n",
    "plt.tight_layout()\n",
    "pass"
   ]
  },
  {
   "cell_type": "markdown",
   "id": "2271b563-8880-4e5b-ab80-9e1439aeb07c",
   "metadata": {},
   "source": [
    "## `k > 1`"
   ]
  },
  {
   "cell_type": "markdown",
   "id": "0b3d3b60-d2bf-47ba-8140-0ade38678005",
   "metadata": {},
   "source": [
    "### w/ replacement\n",
    "\n",
    "$\\implies k$ parallel samples "
   ]
  },
  {
   "cell_type": "code",
   "execution_count": null,
   "id": "aaf1e4a8-51a2-45e7-ae97-4a53c4996849",
   "metadata": {},
   "outputs": [],
   "source": [
    "n = 20\n",
    "\n",
    "\n",
    "\n",
    "from itertools import product\n",
    "x = set(range(n))\n",
    "f = t = 0\n",
    "for i, j in product(x, repeat=2):\n",
    "    f += int(i == 1 or j == 1)\n",
    "    t += 1\n",
    "\n",
    "print(t)\n",
    "    \n",
    "f / t, ((n - 1) + (n - 1) + 1) / n**2\n",
    "\n",
    "(n**2 - n**2 + 2n - 1) / n**2"
   ]
  },
  {
   "cell_type": "code",
   "execution_count": null,
   "id": "556b9473-38da-4ba6-a120-e142f966cd2b",
   "metadata": {},
   "outputs": [],
   "source": [
    "def rs_many_with_replacement(stream, k, stop_at):\n",
    "    xs = list(stream)\n",
    "\n",
    "    out = []\n",
    "    for _ in range(k):\n",
    "        s = rs_once((x for x in xs), stop_at)\n",
    "        out.append(s)\n",
    "\n",
    "    return out"
   ]
  },
  {
   "cell_type": "code",
   "execution_count": null,
   "id": "acdecec2-2f75-47d1-b2cc-552405fd0d63",
   "metadata": {},
   "outputs": [],
   "source": [
    "stream = make_stream(num_items=100)\n",
    "rs_many_with_replacement(stream, k=5, stop_at=50)"
   ]
  },
  {
   "cell_type": "markdown",
   "id": "853171b2-f66f-4090-b303-c60e8cf2ec54",
   "metadata": {},
   "source": [
    "### w/o replacement"
   ]
  },
  {
   "cell_type": "code",
   "execution_count": null,
   "id": "c9392200-4ded-40d6-a270-98d49089b648",
   "metadata": {},
   "outputs": [],
   "source": [
    "def rs_many_without_replacement(stream, k):\n",
    "    cells = [None for _ in range(k)]\n",
    "\n",
    "    for i in range(k):\n",
    "        cells[i] = next(stream)\n",
    "\n",
    "    while True:\n",
    "        j = np.random.randint(1, i + 1, size=1).item()\n",
    "        if j <= k:\n",
    "            cells[j - 1] = next(stream)"
   ]
  },
  {
   "cell_type": "code",
   "execution_count": null,
   "id": "094568ff-8de1-438a-9f59-5809274536c7",
   "metadata": {},
   "outputs": [],
   "source": []
  }
 ],
 "metadata": {
  "kernelspec": {
   "display_name": "Python 3 (ipykernel)",
   "language": "python",
   "name": "python3"
  },
  "language_info": {
   "codemirror_mode": {
    "name": "ipython",
    "version": 3
   },
   "file_extension": ".py",
   "mimetype": "text/x-python",
   "name": "python",
   "nbconvert_exporter": "python",
   "pygments_lexer": "ipython3",
   "version": "3.9.13"
  }
 },
 "nbformat": 4,
 "nbformat_minor": 5
}
