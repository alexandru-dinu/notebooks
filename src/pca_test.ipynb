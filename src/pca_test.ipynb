{
 "cells": [
  {
   "cell_type": "code",
   "execution_count": null,
   "id": "4645344b-944b-4191-8275-88a45ad2ebbb",
   "metadata": {},
   "outputs": [],
   "source": [
    "import numpy as np\n",
    "import matplotlib.pyplot as plt\n",
    "\n",
    "from sklearn.decomposition import PCA\n",
    "from sklearn.preprocessing import StandardScaler"
   ]
  },
  {
   "cell_type": "code",
   "execution_count": null,
   "id": "5b8c2926-fc51-4eb2-9bfa-3037162ff71c",
   "metadata": {},
   "outputs": [],
   "source": [
    "dat = \"\"\"\n",
    "Cheese 105 103 103 66\n",
    "Carcass-meat 245 227 242 267\n",
    "Other-meat 685 803 750 586\n",
    "Fish 147 160 122 93\n",
    "Fats-and-oils 193 235 184 209\n",
    "Sugars 156 175 147 139\n",
    "Fresh-potatoes 720 874 566 1033\n",
    "Fresh-Veg 253 265 171 143\n",
    "Other-Veg 488 570 418 355\n",
    "Processed-potatoes 198 203 220 187\n",
    "Processed-Veg 360 365 337 334\n",
    "Fresh-fruit 1102 1137 957 674\n",
    "Cereals 1472 1582 1462 1494\n",
    "Beverages 57 73 53 47\n",
    "Soft-drinks 1374 1256 1572 1506\n",
    "Alcoholic-drinks 375 475 458 135\n",
    "Confectionery 54 64 62 41\n",
    "\"\"\".strip()\n",
    "\n",
    "y = ['E', 'W', 'S', 'I']\n",
    "\n",
    "X = np.array([list(map(int, x.split()[1:])) for x in dat.split(\"\\n\")]).T\n",
    "X.shape\n",
    "\n",
    "X = X[[1,0,2,3]]\n",
    "X"
   ]
  },
  {
   "cell_type": "code",
   "execution_count": null,
   "id": "19409209-15b6-43e5-b84b-bc2a3e521b30",
   "metadata": {},
   "outputs": [],
   "source": [
    "# Xs = StandardScaler().fit_transform(X)\n",
    "# pca = PCA(n_components=2)\n",
    "# Xt = pca.fit_transform(Xs)\n",
    "# assert np.allclose(Xs @ pca.components_.T, Xt, rtol=0)"
   ]
  },
  {
   "cell_type": "code",
   "execution_count": null,
   "id": "24f06e80-26d2-4d65-97d6-5a161a5f8c64",
   "metadata": {},
   "outputs": [],
   "source": [
    "pca = PCA(n_components=2)\n",
    "Xt = pca.fit_transform(X)"
   ]
  },
  {
   "cell_type": "code",
   "execution_count": null,
   "id": "314685e9-78e5-4a1f-a173-d7a4136ea375",
   "metadata": {},
   "outputs": [],
   "source": [
    "plt.scatter(Xt[:, 0], Xt[:, 1])"
   ]
  },
  {
   "cell_type": "code",
   "execution_count": null,
   "id": "9f191d34-8919-4de2-86c6-4f49672fc555",
   "metadata": {},
   "outputs": [],
   "source": []
  }
 ],
 "metadata": {
  "kernelspec": {
   "display_name": "Python 3 (ipykernel)",
   "language": "python",
   "name": "python3"
  },
  "language_info": {
   "codemirror_mode": {
    "name": "ipython",
    "version": 3
   },
   "file_extension": ".py",
   "mimetype": "text/x-python",
   "name": "python",
   "nbconvert_exporter": "python",
   "pygments_lexer": "ipython3",
   "version": "3.9.13"
  }
 },
 "nbformat": 4,
 "nbformat_minor": 5
}
