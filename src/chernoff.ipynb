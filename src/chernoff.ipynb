{
 "cells": [
  {
   "cell_type": "code",
   "execution_count": null,
   "metadata": {},
   "outputs": [],
   "source": [
    "import numpy as np\n",
    "import matplotlib.pyplot as plt\n",
    "import seaborn as sns\n",
    "import math\n",
    "\n",
    "from tqdm import trange"
   ]
  },
  {
   "cell_type": "markdown",
   "metadata": {},
   "source": [
    "## Estimating the weight of a biased coin\n",
    "\n",
    "- There is an unknown $\\mathsf{Bernoulli}(p)$ object.\n",
    "- How many samples are needed in order to obtain a **good** estimate $\\widehat{p}$?"
   ]
  },
  {
   "cell_type": "code",
   "execution_count": null,
   "metadata": {},
   "outputs": [],
   "source": [
    "# unknown distribution\n",
    "# p = np.array([0.1, 0.6, 0.005, -1])\n",
    "# p[-1] = 1 - sum(p[:-1])\n",
    "\n",
    "p = np.random.uniform(0, 1, size=100)\n",
    "p = p/p.sum()\n",
    "assert np.isclose(sum(p), 1)\n",
    "\n",
    "# print(p)\n",
    "\n",
    "# item whose weight we want to estimate, i.e. p[σ]\n",
    "σ = 0\n",
    "\n",
    "def get_samples(n):\n",
    "    \"\"\"Get n random samples from `p`.\"\"\"\n",
    "    return np.random.choice(np.arange(len(p)), size=n, p=p, replace=True)"
   ]
  },
  {
   "cell_type": "code",
   "execution_count": null,
   "metadata": {},
   "outputs": [],
   "source": [
    "ϵ = 0.05\n",
    "δ = 0.05\n",
    "\n",
    "n = math.ceil((3/ϵ**2) * math.log(2/δ))\n",
    "# n = math.ceil((0.5/ϵ**2) * math.log(2/δ))\n",
    "print(f\"{n=:,d}\")\n",
    "\n",
    "xs = get_samples(n)\n",
    "\n",
    "emp = np.array([\n",
    "    (xs == i).sum() / n for i in range(len(p))\n",
    "])\n",
    "\n",
    "l1 = np.abs(emp - p).sum()\n",
    "l1"
   ]
  },
  {
   "cell_type": "code",
   "execution_count": null,
   "metadata": {},
   "outputs": [],
   "source": [
    "σ = 2\n",
    "mle = (xs == σ).sum() / n\n",
    "print(mle, p[σ])\n",
    "\n",
    "print(f\"{np.abs(mle - p[σ]) <=        ϵ = }\")\n",
    "print(f\"{np.abs(mle - p[σ]) <= p[σ] * ϵ = }\")"
   ]
  },
  {
   "cell_type": "markdown",
   "metadata": {},
   "source": [
    "## Additive Chernoff bounds for distinguishing between two differently biased coins\n",
    "\n",
    "$\n",
    "\\begin{cases}\n",
    "\\texttt{coin}_1: \\Pr(H) = \\frac12 + \\epsilon_1 \\\\\n",
    "\\texttt{coin}_2: \\Pr(H) = \\frac12 - \\epsilon_2\n",
    "\\end{cases}\n",
    "$"
   ]
  },
  {
   "cell_type": "code",
   "execution_count": null,
   "metadata": {},
   "outputs": [],
   "source": [
    "class Coin:\n",
    "    def __init__(self, p):\n",
    "        self.p = p\n",
    "        \n",
    "    def sample(self, n=1):\n",
    "        return np.random.binomial(n=1, p=self.p, size=n)\n",
    "    \n",
    "    def __str__(self):\n",
    "        return f'Coin({p})'\n",
    "    \n",
    "    def __repr__(self):\n",
    "        return str(self)\n",
    "    \n",
    "\n",
    "def err(coin, n, m):\n",
    "    x = []\n",
    "    for _ in tqdm(range(m)):\n",
    "        x += [coin.sample(n).sum()/n - coin.p]\n",
    "\n",
    "    x = np.array(x)\n",
    "\n",
    "    sns.histplot(x, bins=2**5)\n",
    "    plt.show()"
   ]
  },
  {
   "cell_type": "code",
   "execution_count": null,
   "metadata": {},
   "outputs": [],
   "source": [
    "coin = Coin(p=1/2)\n",
    "err(coin, n=1000, m=100_000)"
   ]
  },
  {
   "cell_type": "code",
   "execution_count": null,
   "metadata": {},
   "outputs": [],
   "source": [
    "ϵ1 = 0.1\n",
    "ϵ2 = 0\n",
    "δ  = 0.01\n",
    "λ  = (1 + ϵ1 - ϵ2) / 2 # best threshold\n",
    "assert 0 <= ϵ1 < 1 and 0 <= ϵ2 < 1 and 0 < δ < 1\n",
    "\n",
    "coin1 = Coin(p=1/2 + ϵ1)\n",
    "coin2 = Coin(p=1/2 - ϵ2)\n",
    "\n",
    "n = math.ceil(2 * math.log(1/δ) / (ϵ1 + ϵ2)**2)\n",
    "\n",
    "print(f\"best threshold {λ=}\")\n",
    "\n",
    "# make the bound a function of n\n",
    "P_wrong_bound = lambda n: 0.5 * (math.exp(-2 * n * (λ-0.5+ϵ2)**2) + math.exp(-2 * n * (λ-0.5-ϵ1)**2))\n",
    "print(f'P(wrong | {n=}) <= {P_wrong_bound(n):.5f}')\n",
    "\n",
    "# one can actuall\n",
    "ys = np.array([P_wrong_bound(x) for x in np.arange(1, 10000)])\n",
    "print(f'smallest n that will get P(wrong) < δ = {np.argwhere(ys <= δ)[0].item()}')"
   ]
  },
  {
   "cell_type": "code",
   "execution_count": null,
   "metadata": {},
   "outputs": [],
   "source": [
    "def experiment(n):\n",
    "    # choose coin uniformly at random\n",
    "    coin = np.random.choice([coin1, coin2])\n",
    "    \n",
    "    # count number of heads in n trials\n",
    "    X = coin.sample(n).sum()\n",
    "    \n",
    "    if X/n > λ:\n",
    "        return coin is coin1\n",
    "    else:\n",
    "        return coin is coin2\n",
    "\n",
    "N = 100_000\n",
    "correct = 0\n",
    "diff = []\n",
    "\n",
    "for _ in tqdm(range(N), desc='Experiments'):\n",
    "    correct += experiment(n)\n",
    "    \n",
    "P_wrong = 1 - (correct / N)\n",
    "\n",
    "assert P_wrong <= P_wrong_bound(n)\n",
    "print(f'experimental {P_wrong=:.7f} <= {P_wrong_bound(n)=:.7f}')"
   ]
  },
  {
   "cell_type": "code",
   "execution_count": null,
   "metadata": {},
   "outputs": [],
   "source": [
    "xs = [coin1.sample(921).sum() / n > λ for _ in tqdm(range(1_000_000))]"
   ]
  },
  {
   "cell_type": "code",
   "execution_count": null,
   "metadata": {},
   "outputs": [],
   "source": []
  }
 ],
 "metadata": {
  "kernelspec": {
   "display_name": "Python 3 (ipykernel)",
   "language": "python",
   "name": "python3"
  },
  "language_info": {
   "codemirror_mode": {
    "name": "ipython",
    "version": 3
   },
   "file_extension": ".py",
   "mimetype": "text/x-python",
   "name": "python",
   "nbconvert_exporter": "python",
   "pygments_lexer": "ipython3",
   "version": "3.8.12"
  }
 },
 "nbformat": 4,
 "nbformat_minor": 4
}
