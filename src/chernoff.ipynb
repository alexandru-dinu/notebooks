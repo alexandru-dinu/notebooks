{
 "cells": [
  {
   "cell_type": "code",
   "execution_count": 1,
   "metadata": {},
   "outputs": [],
   "source": [
    "import numpy as np\n",
    "from tqdm.auto import tqdm"
   ]
  },
  {
   "cell_type": "markdown",
   "metadata": {},
   "source": [
    "## Additive Chernoff bounds for distinguishing between two differently biased coins\n",
    "\n",
    "$$\n",
    "\\begin{cases}\n",
    "\\texttt{coin}_1: P(H) = 1/2 + \\epsilon_1 \\\\\n",
    "\\texttt{coin}_2: P(H) = 1/2 - \\epsilon_2\n",
    "\\end{cases}\n",
    "$$"
   ]
  },
  {
   "cell_type": "code",
   "execution_count": 2,
   "metadata": {},
   "outputs": [],
   "source": [
    "class Coin:\n",
    "    def __init__(self, p):\n",
    "        self.p = p\n",
    "        \n",
    "    def sample(self, n=1):\n",
    "        return np.random.binomial(n=1, p=self.p, size=n)\n",
    "    \n",
    "    def __str__(self):\n",
    "        return f'Coin({p})'\n",
    "    \n",
    "    def __repr__(self):\n",
    "        return str(self)\n",
    "    \n",
    "\n",
    "def err(coin, n, m):\n",
    "    x = []\n",
    "    for _ in tqdm(range(m)):\n",
    "        x += [coin.sample(n).sum()/n - coin.p]\n",
    "    x = np.array(x)\n",
    "\n",
    "    plt.hist(x, bins=32, rwidth=0.8)\n",
    "    plt.show()"
   ]
  },
  {
   "cell_type": "code",
   "execution_count": 3,
   "metadata": {},
   "outputs": [
    {
     "data": {
      "application/vnd.jupyter.widget-view+json": {
       "model_id": "fcfa79abf94249b5ae5e64bfba2b6a17",
       "version_major": 2,
       "version_minor": 0
      },
      "text/plain": [
       "HBox(children=(FloatProgress(value=0.0, max=100000.0), HTML(value='')))"
      ]
     },
     "metadata": {},
     "output_type": "display_data"
    },
    {
     "name": "stdout",
     "output_type": "stream",
     "text": [
      "\n"
     ]
    },
    {
     "data": {
      "image/png": "[encoded data removed]",
      "text/plain": [
       "<Figure size 432x288 with 1 Axes>"
      ]
     },
     "metadata": {
      "needs_background": "light"
     },
     "output_type": "display_data"
    }
   ],
   "source": [
    "coin = Coin(p=1/2)\n",
    "err(coin, n=1000, m=100_000)"
   ]
  },
  {
   "cell_type": "code",
   "execution_count": 4,
   "metadata": {},
   "outputs": [
    {
     "name": "stdout",
     "output_type": "stream",
     "text": [
      "P(wrong | n = 103) <= 0.00971\n",
      "smallest n that will get P(wrong) < δ = 102\n"
     ]
    }
   ],
   "source": [
    "ϵ1 = 0.1\n",
    "ϵ2 = 0.2\n",
    "δ  = 0.01\n",
    "λ  = (1 + ϵ1 - ϵ2) / 2 # best threshold\n",
    "assert 0 < ϵ1 < 1 and 0 < ϵ2 < 1 and 0 < δ < 1\n",
    "\n",
    "coin1 = Coin(p=1/2 + ϵ1)\n",
    "coin2 = Coin(p=1/2 - ϵ2)\n",
    "\n",
    "n = math.ceil(2 * math.log(1/δ) / (ϵ1 + ϵ2)**2)\n",
    "\n",
    "# make the bound a function of n\n",
    "P_wrong_bound = lambda n: 0.5 * (math.exp(-2 * n * (λ-0.5+ϵ2)**2) + math.exp(-2 * n * (λ-0.5-ϵ1)**2))\n",
    "print(f'P(wrong | n = {n}) <= {P_wrong_bound(n):.5f}')\n",
    "\n",
    "# one can actuall\n",
    "ys = np.array([P_wrong_bound(x) for x in np.arange(1, 10000)])\n",
    "print(f'smallest n that will get P(wrong) < δ = {np.argwhere(ys <= δ)[0].item()}')"
   ]
  },
  {
   "cell_type": "code",
   "execution_count": 5,
   "metadata": {},
   "outputs": [
    {
     "data": {
      "application/vnd.jupyter.widget-view+json": {
       "model_id": "3ba21b3be1a845c595678ecf79ba2a0e",
       "version_major": 2,
       "version_minor": 0
      },
      "text/plain": [
       "HBox(children=(FloatProgress(value=0.0, description='Experiments', max=100000.0, style=ProgressStyle(descripti…"
      ]
     },
     "metadata": {},
     "output_type": "display_data"
    },
    {
     "name": "stdout",
     "output_type": "stream",
     "text": [
      "\n",
      "experimental P(wrong) = 0.0008600 <= 0.0097061\n"
     ]
    }
   ],
   "source": [
    "def experiment(n):\n",
    "    # choose coin uniformly at random\n",
    "    coin = np.random.choice([coin1, coin2])\n",
    "    \n",
    "    # count number of heads in n trials\n",
    "    X = coin.sample(n).sum()\n",
    "    \n",
    "    if X > round(λ*n):\n",
    "        return coin is coin1\n",
    "    else:\n",
    "        return coin is coin2\n",
    "\n",
    "N = 100_000\n",
    "correct = 0\n",
    "diff = []\n",
    "\n",
    "for _ in tqdm(range(N), desc='Experiments'):\n",
    "    correct += experiment(n)\n",
    "    \n",
    "P_wrong = 1 - (correct / N)\n",
    "\n",
    "assert P_wrong <= P_wrong_bound(n)\n",
    "print(f'experimental P(wrong) = {P_wrong:.7f} <= {P_wrong_bound(n):.7f}')"
   ]
  }
 ],
 "metadata": {
  "kernelspec": {
   "display_name": "Python 3",
   "language": "python",
   "name": "python3"
  },
  "language_info": {
   "codemirror_mode": {
    "name": "ipython",
    "version": 3
   },
   "file_extension": ".py",
   "mimetype": "text/x-python",
   "name": "python",
   "nbconvert_exporter": "python",
   "pygments_lexer": "ipython3",
   "version": "3.7.6"
  }
 },
 "nbformat": 4,
 "nbformat_minor": 4
}
