{
 "cells": [
  {
   "cell_type": "code",
   "execution_count": null,
   "id": "de680f69-e471-4049-a11c-4d4de4fc6b8e",
   "metadata": {},
   "outputs": [],
   "source": [
    "import numpy as np\n",
    "import torch as T\n",
    "import torch.nn.functional as F\n",
    "from tqdm import trange"
   ]
  },
  {
   "cell_type": "code",
   "execution_count": null,
   "id": "3b5ba1e1-225d-4e31-9e5f-37b059b26570",
   "metadata": {},
   "outputs": [],
   "source": [
    "def eucl(x, y):\n",
    "    return T.linalg.norm(F.normalize(x) - F.normalize(y), dim=-1).item()\n",
    "\n",
    "def cos(x, y):\n",
    "    return F.cosine_similarity(x, y).item()"
   ]
  },
  {
   "cell_type": "markdown",
   "id": "dd398ba5-69fa-4f0b-9d97-5f8c9862af2a",
   "metadata": {},
   "source": [
    "### Claim 1: Cosine Similarity and $L_2$-normalized Euclidean Distance preserve relative ordering\n",
    "\n",
    "Let $x, y, z \\in \\mathbb{R}^d$, with unit norm, then: $\\cos(x, y) \\geq \\cos(x, z) \\iff eucl(x, y) < eucl(x, z)$\n",
    "\n",
    "**Proof:**\n",
    "\n",
    "First, note that $eucl(x, y)^2 = \\sum_{i=1}^d (x_i - y_i)^2 = \\sum_{i=1}^d x_i^2 + y_i^2 - 2 \\cdot x_i y_i = ||x||_2^2 + ||y||_2^2 - 2 \\cdot x^\\top y = 2 - 2 \\cdot \\cos(x, y)$\n",
    "\n",
    "$(\\Rightarrow): \\cos(x, y) \\geq \\cos(x, z) \\implies 2 -2 \\cdot \\cos(x, y) < 2 -2 \\cdot \\cos(x, z) \\implies eucl(x,y)^2 < eucl(x, z)^2 \\implies eucl(x, y) < eucl(x, z)$\n",
    "\n",
    "$(\\Leftarrow): eucl(x, y) < eucl(x, z) \\implies 2 - 2\\cdot \\cos(x, y) < 2 -2 \\cdot \\cos(x, z) \\implies \\cos(x, y) \\geq \\cos(x, z)$\n",
    "\n",
    "$\\blacksquare$"
   ]
  },
  {
   "cell_type": "code",
   "execution_count": null,
   "id": "e0c44b3e-96bf-4594-b185-b0fb7b3c786d",
   "metadata": {},
   "outputs": [],
   "source": [
    "N = 100_000\n",
    "\n",
    "for _ in trange(N):\n",
    "    d = np.random.randint(2, 128 + 1)\n",
    "    p = np.round(np.random.uniform(), 2)\n",
    "    \n",
    "    x, y, z = (T.rand(3, 1, d) - 0.5) * T.bernoulli(p * T.ones(3, 1, d))\n",
    "    \n",
    "    if not T.any(x) or not T.any(y) or not T.any(z):\n",
    "        continue\n",
    "    \n",
    "    cxy = cos(x, y)\n",
    "    cxz = cos(x, z)\n",
    "    exy = eucl(x, y)\n",
    "    exz = eucl(x, z)\n",
    "    \n",
    "    lhs = True if np.isclose(cxy, cxz, rtol=0, atol=1e-6) else cxy > cxz\n",
    "    rhs = True if np.isclose(exy, exz, rtol=0, atol=1e-6) else exy < exz\n",
    "    \n",
    "    if lhs != rhs:\n",
    "        print(f\"{cxy=}, {cxz=}\")\n",
    "        print(f\"{exy=}, {exz=}\")\n",
    "        raise ValueError()"
   ]
  },
  {
   "cell_type": "markdown",
   "id": "3ffd4d58-3375-43c8-a2db-249ff7794384",
   "metadata": {},
   "source": [
    "### Claim 2: (1 - Cosine Similarity) is not a proper distance metric\n",
    "\n",
    "The triangle inequality does not always hold, meaning that:\n",
    "\n",
    "$(\\exists) \\ x, y, z \\in \\mathbb{R}^d$ such that $1-\\cos(x,y) > 1-\\cos(x,z)+1-\\cos(z,y)$, or\n",
    "\n",
    "$1 + \\cos(x, y) \\leq \\cos(x, z) + \\cos(z, y)$\n",
    "\n",
    "Simple counterexample:\n",
    "$x = \\langle 1, 0 \\rangle, y = \\langle 0, 1 \\rangle, z = \\langle (0, 1), (0, 1) \\rangle$\n",
    "\n",
    "This means that $x \\bot y$ and $z$ is between them, such that $\\angle(x,z) = \\theta \\implies \\angle(z, y) = \\frac{\\pi}{2} - \\theta$\n",
    "\n",
    "$1 + \\cos(x,y) \\leq \\cos(x, z) + \\cos(z, y)$\n",
    "\n",
    "$1 + 0 \\leq \\cos(\\theta) + \\cos(\\frac{\\pi}{2} - \\theta)$\n",
    "\n",
    "$1 \\leq \\cos(\\theta) + \\sin(\\theta)$\n",
    "\n",
    "$1 \\leq \\cos^2(\\theta) + \\sin^2(\\theta) + \\sin(2\\theta)$\n",
    "\n",
    "$\\sin(2\\theta) \\geq 0 \\implies \\theta \\in [0, \\frac{\\pi}{2}]$\n",
    "\n",
    "---\n",
    "\n",
    "Let $\\theta = \\frac{\\pi}{4}$, then\n",
    "\n",
    "1. $\\cos(x,y) \\leq \\cos(x, z) + \\cos(z, y) \\implies 0 \\leq \\frac{\\sqrt{2}}{2} + \\frac{\\sqrt{2}}{2}$ (True)\n",
    "\n",
    "2. $1-\\cos(x,y) \\leq 1-\\cos(x,z) +1-\\cos(z,y) \\implies 1 \\leq 2 \\cdot (1 - \\frac{\\sqrt{2}}{2}) = 2 - \\sqrt{2} \\approx 0.58578$ (False)"
   ]
  },
  {
   "cell_type": "markdown",
   "id": "c730deca-f0d7-4645-90e3-964e54018214",
   "metadata": {},
   "source": [
    "### Follow-up: Where is triangle inequality needed?"
   ]
  },
  {
   "cell_type": "code",
   "execution_count": null,
   "id": "be151012-ef40-4000-8b7a-224503a757d1",
   "metadata": {},
   "outputs": [],
   "source": []
  }
 ],
 "metadata": {
  "kernelspec": {
   "display_name": "Python 3 (ipykernel)",
   "language": "python",
   "name": "python3"
  },
  "language_info": {
   "codemirror_mode": {
    "name": "ipython",
    "version": 3
   },
   "file_extension": ".py",
   "mimetype": "text/x-python",
   "name": "python",
   "nbconvert_exporter": "python",
   "pygments_lexer": "ipython3",
   "version": "3.10.6"
  }
 },
 "nbformat": 4,
 "nbformat_minor": 5
}
