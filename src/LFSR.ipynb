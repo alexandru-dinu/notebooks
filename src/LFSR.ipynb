{
 "cells": [
  {
   "cell_type": "code",
   "execution_count": null,
   "id": "4ed02002-1f1f-400c-bb21-08134f11533b",
   "metadata": {},
   "outputs": [],
   "source": [
    "from itertools import count\n",
    "from collections import Counter\n",
    "import numpy as np\n",
    "from scipy import stats\n",
    "\n",
    "from tqdm import tqdm\n",
    "import matplotlib.pyplot as plt\n",
    "import seaborn as sns"
   ]
  },
  {
   "cell_type": "code",
   "execution_count": null,
   "id": "ff090893-6d39-41b5-b0af-fae0980c7410",
   "metadata": {},
   "outputs": [],
   "source": [
    "def sequence(\n",
    "    start: int, num_bits: int, f: \"int -> bit\", max_steps: int\n",
    "):\n",
    "    xs = [start]\n",
    "    \n",
    "    for i in range(max_steps):\n",
    "        new = (xs[-1] >> 1) | (f(xs[-1]) << num_bits)\n",
    "        \n",
    "        if new == start:\n",
    "#             print(f\"loop found after {i+1} steps\")\n",
    "            break\n",
    "            \n",
    "        xs.append(new)\n",
    "    \n",
    "    return xs\n",
    "\n",
    "\n",
    "n = 33\n",
    "xs = sequence(\n",
    "    start=((1 << n) | 1),\n",
    "    num_bits=n,\n",
    "    f=lambda x: (x ^ (x >> 1) ^ (x >> 2) ^ (x >> 7)) & 1,\n",
    "#     f=lambda x: (x ^ (x >> 1)) & 1,\n",
    "    max_steps=1_000_000\n",
    ")\n",
    "# print(xs)\n",
    "cnt = Counter([x & 1 for x in xs])\n",
    "print(cnt)\n",
    "\n",
    "p_value = stats.binom_test(\n",
    "    cnt[1], n=(cnt[0] + cnt[1]), p=0.5, alternative='two-sided'\n",
    ")\n",
    "print(f\"{p_value=:.5f}\")\n",
    "\n",
    "# sns.histplot(np.log2(xs))\n",
    "# plt.xlabel('Bits')"
   ]
  },
  {
   "cell_type": "code",
   "execution_count": null,
   "id": "857dc9ed-e411-41f3-b403-e970f4eb1b52",
   "metadata": {},
   "outputs": [],
   "source": [
    "d = {}\n",
    "\n",
    "ns = np.arange(2, 127)\n",
    "ys = np.zeros_like(ns, dtype=float)\n",
    "ps = np.zeros_like(ns, dtype=float)\n",
    "\n",
    "for i, n in tqdm(enumerate(ns), total=len(ns)):\n",
    "    xs = sequence(\n",
    "        start=((1 << n) | 1),\n",
    "        num_bits=n,\n",
    "        f=lambda x: (x ^ (x >> 1) ^ (x >> 2) ^ (x >> 7)) & 1,\n",
    "        max_steps=1_000_000\n",
    "    )\n",
    "    cnt = Counter([x & 1 for x in xs])\n",
    "    ys[i] = cnt[1] / (cnt[0] + cnt[1])\n",
    "    ps[i] = stats.binom_test(\n",
    "        cnt[1], n=(cnt[0] + cnt[1]), p=0.5, alternative='two-sided'\n",
    "    )"
   ]
  },
  {
   "cell_type": "code",
   "execution_count": null,
   "id": "613e6803-ea08-4823-b763-9b5bf1c57385",
   "metadata": {},
   "outputs": [],
   "source": [
    "plt.figure(figsize=(20, 6))\n",
    "plt.subplot(1, 2, 1)\n",
    "plt.plot(ns, ys, linestyle='--', marker='.')\n",
    "plt.subplot(1, 2, 2)\n",
    "plt.plot(ns, ps, linestyle='--', marker='.')\n",
    "pass"
   ]
  },
  {
   "cell_type": "code",
   "execution_count": null,
   "id": "4deda8f3-dbd3-4b73-a182-9003131e629e",
   "metadata": {},
   "outputs": [],
   "source": []
  }
 ],
 "metadata": {
  "kernelspec": {
   "display_name": "Python 3 (ipykernel)",
   "language": "python",
   "name": "python3"
  },
  "language_info": {
   "codemirror_mode": {
    "name": "ipython",
    "version": 3
   },
   "file_extension": ".py",
   "mimetype": "text/x-python",
   "name": "python",
   "nbconvert_exporter": "python",
   "pygments_lexer": "ipython3",
   "version": "3.8.10"
  }
 },
 "nbformat": 4,
 "nbformat_minor": 5
}
