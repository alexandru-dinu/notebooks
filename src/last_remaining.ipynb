{
 "cells": [
  {
   "cell_type": "markdown",
   "id": "5e6dc0cb-c5ec-4247-b3ea-c35698541bbd",
   "metadata": {},
   "source": [
    "https://leetcode.com/problems/elimination-game/"
   ]
  },
  {
   "cell_type": "code",
   "execution_count": null,
   "id": "d1db4c90-c75c-402e-a204-0351f99d3953",
   "metadata": {},
   "outputs": [],
   "source": [
    "import torch as T\n",
    "import torch.nn as nn\n",
    "from torch.utils.data import TensorDataset, DataLoader\n",
    "import torch.optim as optim\n",
    "from tqdm import trange, tqdm\n",
    "import seaborn as sns\n",
    "import matplotlib.pyplot as plt\n",
    "import numpy as np\n",
    "from IPython import display\n",
    "import time\n",
    "\n",
    "%matplotlib inline\n",
    "%config InlineBackend.figure_format = 'retina'\n",
    "sns.set()"
   ]
  },
  {
   "cell_type": "code",
   "execution_count": null,
   "id": "71d68926-b4e6-45eb-bc3f-f1116f97f9a3",
   "metadata": {},
   "outputs": [],
   "source": [
    "def lastRemaining(n: int) -> int:\n",
    "    xs = list(range(1, n+1))\n",
    "\n",
    "    while len(xs) > 1:\n",
    "        xs = xs[1::2][::-1]\n",
    "\n",
    "    return xs[0]\n",
    "\n",
    "n = 10_000\n",
    "x, y = map(lambda a: np.log2(np.array(a)), zip(*[(x, lastRemaining(x)) for x in trange(1, n+1)]))"
   ]
  },
  {
   "cell_type": "code",
   "execution_count": null,
   "id": "aabb44dc-18b2-4a4c-9426-3e073a0aa05f",
   "metadata": {},
   "outputs": [],
   "source": [
    "x = T.from_numpy(x)\n",
    "y = T.from_numpy(y)"
   ]
  },
  {
   "cell_type": "code",
   "execution_count": null,
   "id": "02e7cbe8-f674-4ab2-9d78-ee2d6236bb17",
   "metadata": {},
   "outputs": [],
   "source": [
    "class Net(nn.Module):\n",
    "    def __init__(self, h):\n",
    "        super(Net, self).__init__()\n",
    "        self.net = nn.Sequential(\n",
    "            nn.Linear(1, h, bias=True),\n",
    "            # nn.LeakyReLU(negative_slope=0.01, inplace=True),\n",
    "            \n",
    "            *[nn.Linear(h, h, bias=True)] * 2,\n",
    "            \n",
    "            \n",
    "            nn.Linear(h, 1, bias=True),\n",
    "            nn.Tanh()\n",
    "        )\n",
    "    \n",
    "    def forward(self, x):\n",
    "        return self.net(x)\n",
    "    \n",
    "\n",
    "dl = DataLoader(TensorDataset(x, y), batch_size=1024, shuffle=False)\n",
    "\n",
    "net = Net(h=64)\n",
    "\n",
    "opt = optim.Adam(net.parameters(), lr=1e-3)\n",
    "# opt = optim.SGD(net.parameters(), lr=1e-4)\n",
    "\n",
    "crit = nn.MSELoss()\n",
    "# crit = nn.L1Loss()\n",
    "\n",
    "sched = optim.lr_scheduler.MultiStepLR(opt, milestones=[10, 50], gamma=0.1, verbose=True)\n",
    "# sched = optim.lr_scheduler.CosineAnnealingLR(opt, T_max=100//4, eta_min=1e-5, verbose=True)\n",
    "# sched = optim.lr_scheduler.ReduceLROnPlateau(opt, mode='min', patience=5, verbose=True)\n",
    "\n",
    "avgs = []\n",
    "\n",
    "for e in range(1, 100 + 1):   \n",
    "    avg = 0\n",
    "    net.train()\n",
    "    \n",
    "    for i, (X, Y) in enumerate(dl):    \n",
    "        opt.zero_grad()\n",
    "        \n",
    "        y_ = net(X.unsqueeze(1).float()).squeeze(1)\n",
    "        \n",
    "        loss = crit(y_, Y.float())\n",
    "        # loss = T.mean((y_**2 - Y.float()**2) ** 2)\n",
    "        \n",
    "        loss.backward()\n",
    "        opt.step()\n",
    "        \n",
    "        avg += loss.item() / len(dl)\n",
    "\n",
    "    sched.step()\n",
    "    avgs.append(avg)\n",
    "    \n",
    "    net.eval()\n",
    "    display.clear_output(wait=True)\n",
    "    # plt.clf()\n",
    "    plt.figure(figsize=(16, 5))\n",
    "    plt.subplot(1, 2, 1)\n",
    "    plt.plot(x, y)\n",
    "    with T.no_grad():\n",
    "        plt.plot(x, T.round(net(x.unsqueeze(1).float()).squeeze(1)))\n",
    "    plt.title(f\"{e}\")\n",
    "    plt.subplot(1, 2, 2)\n",
    "    plt.plot(avgs, linestyle='--', marker='.', markersize=10)\n",
    "    plt.show()"
   ]
  },
  {
   "cell_type": "code",
   "execution_count": null,
   "id": "22c1f1c9-79f9-4772-b60a-d885e96ff865",
   "metadata": {},
   "outputs": [],
   "source": []
  },
  {
   "cell_type": "code",
   "execution_count": null,
   "id": "a033e32c-c3ff-4186-891a-ed1bf60200bc",
   "metadata": {},
   "outputs": [],
   "source": []
  }
 ],
 "metadata": {
  "kernelspec": {
   "display_name": "Python 3 (ipykernel)",
   "language": "python",
   "name": "python3"
  },
  "language_info": {
   "codemirror_mode": {
    "name": "ipython",
    "version": 3
   },
   "file_extension": ".py",
   "mimetype": "text/x-python",
   "name": "python",
   "nbconvert_exporter": "python",
   "pygments_lexer": "ipython3",
   "version": "3.8.12"
  }
 },
 "nbformat": 4,
 "nbformat_minor": 5
}
