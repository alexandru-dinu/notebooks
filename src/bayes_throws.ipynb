{
 "cells": [
  {
   "cell_type": "markdown",
   "metadata": {},
   "source": [
    "$$\n",
    "\\begin{align*}\n",
    "\\text{Grid}&: n \\times m \\\\\n",
    "\\text{Observations}&: \\{(N/S/nop, W/E/nop)\\}_{t=1}^{T} \\\\\n",
    "\\end{align*}\n",
    "$$\n",
    "\n",
    "$$\n",
    "\\begin{align*}\n",
    "P(x | O) &= \\frac{P(O|x) \\cdot P(x)}{P(O)} \\\\\n",
    "P(x | O) &\\propto P(O|x) \\cdot P(x) \\\\\n",
    "P(O | x) &= \\prod_{t=1}^{T} P(x_t | x) \\\\\n",
    "P(O | y) &= \\prod_{t=1}^{T} P(y_t | y)\n",
    "\\end{align*}\n",
    "$$\n",
    "\n",
    "For individual observations, we have:\n",
    "$$\n",
    "\\begin{align*}\n",
    "\\prod_{t=1}^{T} P(x_t | x) &= P(x_t \\in N | x)^{|N|} \\cdot P(x_t \\in S | x)^{|S|} \\cdot P(x_t \\in nop | x)^{|nop|} \\\\\n",
    "&= \\left( \\frac{x-1}{n} \\right)^{|N|} \\cdot \\left( \\frac{n-x}{n} \\right)^{|S|} \\cdot \\left( \\frac{1}{n} \\right)^{|nop|} \\\\\n",
    "\\prod_{t=1}^{T} P(y_t | y) &= P(y_t \\in W | y)^{|W|} \\cdot P(y_t \\in E | y)^{|E|} \\cdot P(y_t \\in nop | y)^{|nop|} \\\\\n",
    "&= \\left( \\frac{y-1}{m} \\right)^{|W|} \\cdot \\left( \\frac{m-y}{m} \\right)^{|E|} \\cdot \\left( \\frac{1}{m} \\right)^{|nop|} \\\\\n",
    "\\end{align*}\n",
    "$$\n",
    "\n",
    "The best guess is then:\n",
    "$$\n",
    "\\begin{align*}\n",
    "P(x^* | O) &= \\arg\\max_{x} P(O|x) \\cdot P(x) \\\\\n",
    "P(y^* | O) &= \\arg\\max_{y} P(O|y) \\cdot P(y) \n",
    "\\end{align*}\n",
    "$$"
   ]
  },
  {
   "cell_type": "code",
   "execution_count": 1,
   "metadata": {},
   "outputs": [],
   "source": [
    "import numpy as np\n",
    "from collections import Counter\n",
    "from tqdm import tqdm"
   ]
  },
  {
   "cell_type": "code",
   "execution_count": 2,
   "metadata": {},
   "outputs": [],
   "source": [
    "def delta(p1, p2):\n",
    "    if p1 < p2:\n",
    "        return 0\n",
    "    if p1 == p2:\n",
    "        return 1\n",
    "    return 2\n",
    "\n",
    "def p_obs_x(x, obs):\n",
    "    return ((x - 1)/n)**obs.get('n',0) * \\\n",
    "           ((n - x)/n)**obs.get('s',0) * \\\n",
    "           (1 / n)**obs.get('xnop',0)\n",
    "\n",
    "def p_obs_y(y, obs):\n",
    "    return ((y - 1)/m)**obs.get('w',0) * \\\n",
    "           ((m - y)/m)**obs.get('e',0) * \\\n",
    "           (1 / m)**obs.get('ynop',0)\n",
    "\n",
    "r = np.random.randint"
   ]
  },
  {
   "cell_type": "code",
   "execution_count": 3,
   "metadata": {},
   "outputs": [],
   "source": [
    "def experiment(n, m, T):\n",
    "    grid = np.array([[' ' for _ in range(m)] for _ in range(n)])\n",
    "\n",
    "    xI, yI = r(n), r(m)\n",
    "    grid[xI, yI] = 'X'\n",
    "\n",
    "    cnt = {'x': Counter(), 'y': Counter()}\n",
    "\n",
    "    for t in range(1, T+1):\n",
    "        xt, yt = r(n), r(m)\n",
    "\n",
    "        hx = ['n', 'xnop', 's'][delta(xt, xI)]\n",
    "        hy = ['w', 'ynop', 'e'][delta(yt, yI)]\n",
    "\n",
    "        cnt['x'][hx] += 1\n",
    "        cnt['y'][hy] += 1\n",
    "\n",
    "    cnt = {c: dict(cnt[c].most_common()) for c in cnt}\n",
    "\n",
    "    xS = np.argmax(list(map(lambda x: p_obs_x(x, cnt['x']), range(n))))\n",
    "    yS = np.argmax(list(map(lambda y: p_obs_y(y, cnt['y']), range(m))))\n",
    "\n",
    "    grid[xS, yS] = 'G'\n",
    "\n",
    "    return grid, (xI, yI), (xS, yS)"
   ]
  },
  {
   "cell_type": "code",
   "execution_count": 6,
   "metadata": {},
   "outputs": [
    {
     "name": "stderr",
     "output_type": "stream",
     "text": [
      "100%|██████████| 91/91 [01:18<00:00,  1.16it/s]\n"
     ]
    }
   ],
   "source": [
    "n, m = 100, 100\n",
    "E = 500\n",
    "\n",
    "dist = {}\n",
    "\n",
    "for T in tqdm(range(10, 101)):\n",
    "\n",
    "    d = 0\n",
    "    for _ in range(E):\n",
    "        grid, pI, pS = experiment(n, m, T)\n",
    "        d += np.abs(np.array(pI) - np.array(pS)).sum()\n",
    "    \n",
    "    dist[T] = d/E"
   ]
  },
  {
   "cell_type": "code",
   "execution_count": 7,
   "metadata": {},
   "outputs": [
    {
     "data": {
      "text/plain": [
       "[<matplotlib.lines.Line2D at 0x7f35307bf7d0>]"
      ]
     },
     "execution_count": 7,
     "metadata": {},
     "output_type": "execute_result"
    },
    {
     "data": {
      "image/png": "[encoded data removed]",
      "text/plain": [
       "<Figure size 1152x360 with 1 Axes>"
      ]
     },
     "metadata": {
      "needs_background": "light"
     },
     "output_type": "display_data"
    }
   ],
   "source": [
    "x, y = zip(*dist.items())\n",
    "plt.figure(figsize=(16,5))\n",
    "plt.plot(x, y)"
   ]
  }
 ],
 "metadata": {
  "kernelspec": {
   "display_name": "Python 3",
   "language": "python",
   "name": "python3"
  },
  "language_info": {
   "codemirror_mode": {
    "name": "ipython",
    "version": 3
   },
   "file_extension": ".py",
   "mimetype": "text/x-python",
   "name": "python",
   "nbconvert_exporter": "python",
   "pygments_lexer": "ipython3",
   "version": "3.7.6"
  }
 },
 "nbformat": 4,
 "nbformat_minor": 4
}
