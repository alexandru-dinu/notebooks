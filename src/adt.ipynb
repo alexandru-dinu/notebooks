{
 "cells": [
  {
   "cell_type": "markdown",
   "id": "3c37eab3-da92-4ddc-8b8d-3489bf47e835",
   "metadata": {},
   "source": [
    "# ADT Metaclass"
   ]
  },
  {
   "cell_type": "code",
   "execution_count": 3,
   "id": "a274173d-3a25-4bd8-87e9-902c5bfca2fa",
   "metadata": {},
   "outputs": [],
   "source": [
    "from dataclasses import make_dataclass\n",
    "from typing import Any\n",
    "from copy import deepcopy\n",
    "\n",
    "\n",
    "class ADTMeta(type):\n",
    "    def __new__(cls, name, bases, clsdict):\n",
    "        base = make_dataclass(name, fields=[], bases=(object,))\n",
    "\n",
    "        for data_cons, fields in clsdict[\"__annotations__\"].items():\n",
    "            globals().update(\n",
    "                {data_cons: make_dataclass(data_cons, fields, bases=(base,))}\n",
    "            )\n",
    "\n",
    "        return base"
   ]
  },
  {
   "cell_type": "code",
   "execution_count": 4,
   "id": "16544023-2c27-43be-b779-203451506fd8",
   "metadata": {},
   "outputs": [],
   "source": [
    "def impl_for(cls):\n",
    "    def wrap(func):\n",
    "        setattr(cls, func.__name__, func)\n",
    "        for subcls in cls.__subclasses__():\n",
    "            setattr(subcls, func.__name__, func)\n",
    "\n",
    "        # TODO: have to mangle name so that func(...) is no longer available, only x.func(...)\n",
    "        return func\n",
    "\n",
    "    return wrap"
   ]
  },
  {
   "cell_type": "markdown",
   "id": "40d51a54-2871-4bed-9a22-81e80f6650e4",
   "metadata": {},
   "source": [
    "## List"
   ]
  },
  {
   "cell_type": "code",
   "execution_count": null,
   "id": "762c9878-2f65-4fc8-bea7-cfd6d378eb53",
   "metadata": {},
   "outputs": [],
   "source": [
    "\"\"\"\n",
    "data List a = Null | Cons a (List a)\n",
    "\"\"\"\n",
    "\n",
    "\n",
    "class List(metaclass=ADTMeta):\n",
    "    Nil: []\n",
    "    Cons: [(\"x\", Any), (\"xs\", \"List\")]"
   ]
  },
  {
   "cell_type": "markdown",
   "id": "8130b42f-bed3-4bfc-b850-c64f9f8c1c23",
   "metadata": {},
   "source": [
    "## Tree"
   ]
  },
  {
   "cell_type": "code",
   "execution_count": null,
   "id": "cf4a3054-07c7-4652-ae24-5f1780b6248b",
   "metadata": {},
   "outputs": [],
   "source": [
    "\"\"\"\n",
    "data Tree a = Null | Leaf a | Node a [Tree a]\n",
    "\"\"\"\n",
    "\n",
    "\n",
    "class Tree(metaclass=ADTMeta):\n",
    "    Null: []\n",
    "    Leaf: [(\"val\", Any)]\n",
    "    Node: [(\"val\", Any), (\"children\", list[\"Tree\"])]"
   ]
  },
  {
   "cell_type": "markdown",
   "id": "e9b7a4a1-232a-43e9-86e7-42d58c85f412",
   "metadata": {},
   "source": [
    "# Test"
   ]
  },
  {
   "cell_type": "code",
   "execution_count": null,
   "id": "74d1fbd5-0931-48a5-8056-b2a2fbefdc4f",
   "metadata": {},
   "outputs": [],
   "source": [
    "@impl_for(List)\n",
    "def show(self) -> str:\n",
    "    match self:\n",
    "        case Nil():\n",
    "            return \"<END>\"\n",
    "        case Cons(head, tail):\n",
    "            return f\"{head}:{tail.show()}\"\n",
    "\n",
    "\n",
    "@impl_for(Tree)\n",
    "def show(self, depth=0) -> str:\n",
    "    match self:\n",
    "        case Null():\n",
    "            return \"\"\n",
    "        case Leaf(x):\n",
    "            return f\"{x}|{depth}\"\n",
    "        case Node(x, xs):\n",
    "            rest = \":\".join([r.show(depth + 1) for r in xs])\n",
    "            return f\"({x}|{depth}):{rest}\""
   ]
  },
  {
   "cell_type": "code",
   "execution_count": null,
   "id": "cb6c3eff-6e55-4864-85ff-4081486f5fb1",
   "metadata": {},
   "outputs": [],
   "source": [
    "lst = Cons(1, Cons(2, Cons(3, Nil())))\n",
    "lst.show()"
   ]
  },
  {
   "cell_type": "code",
   "execution_count": null,
   "id": "318c0c85-eb13-4cd3-85c5-5c3cd8a6c44f",
   "metadata": {},
   "outputs": [],
   "source": [
    "tree = Node(val=1, children=[Leaf(2), Leaf(3), Leaf(4)])\n",
    "tree.show()"
   ]
  },
  {
   "cell_type": "code",
   "execution_count": null,
   "id": "fc756f6d-4253-49af-9be9-6c599422b41f",
   "metadata": {},
   "outputs": [],
   "source": []
  }
 ],
 "metadata": {
  "kernelspec": {
   "display_name": "Python 3 (ipykernel)",
   "language": "python",
   "name": "python3"
  },
  "language_info": {
   "codemirror_mode": {
    "name": "ipython",
    "version": 3
   },
   "file_extension": ".py",
   "mimetype": "text/x-python",
   "name": "python",
   "nbconvert_exporter": "python",
   "pygments_lexer": "ipython3",
   "version": "3.10.8"
  }
 },
 "nbformat": 4,
 "nbformat_minor": 5
}
