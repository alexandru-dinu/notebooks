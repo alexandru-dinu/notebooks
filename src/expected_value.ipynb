{
 "cells": [
  {
   "cell_type": "code",
   "execution_count": null,
   "metadata": {},
   "outputs": [],
   "source": [
    "%matplotlib inline\n",
    "%config InlineBackend.figure_format = 'retina'\n",
    "sns.set()"
   ]
  },
  {
   "cell_type": "markdown",
   "metadata": {},
   "source": [
    "# 1. Fair coin from biased coin"
   ]
  },
  {
   "cell_type": "markdown",
   "metadata": {},
   "source": [
    "$P(h) = p, \\ P(t) = q = 1 - p$\n",
    "\n",
    "$P(ht) = P(th) = pq \\ \\rightarrow$ use for fair generation $\\rightarrow \\ P(\\text{same}) = 2pq, \\ P(\\text{dif}) = 1 - 2pq$\n",
    "\n",
    "$P(hh) = p^2, \\ P(tt) = q^2$\n",
    "\n",
    "**Idea:** Flip twice -> if different outcomes, report the first one, otherwise repeat.\n",
    "\n",
    "$\n",
    "\\begin{align}\n",
    "\\mathbb{E}[\\text{flips}] = e &= \\texttt{succeed_first_try} \\ \\lor \\ \\texttt{repeat} \\\\\n",
    "e &= 2 \\cdot P(\\text{same}) + P(\\text{dif}) \\cdot (2 + e) \\\\\n",
    "e &= 2 \\cdot 2pq + (1-2pq) \\cdot (2 + e) \\\\\n",
    "e (1 - 1 + 2pq) &= 4pq + 2 - 4pq \\\\\n",
    "e \\cdot 2pq &= 2 \\\\\n",
    "e &= \\frac{1}{pq} = \\frac{1}{p \\cdot (1-p)}\n",
    "\\end{align}\n",
    "$"
   ]
  },
  {
   "cell_type": "code",
   "execution_count": null,
   "metadata": {},
   "outputs": [],
   "source": [
    "x = 0.05\n",
    "ps = np.linspace(x, 1-x, 100)\n",
    "es = 1 / (ps * (1 - ps))\n",
    "plt.plot(ps, es)\n",
    "plt.xlabel('$p$', fontsize=14)\n",
    "plt.ylabel('expected', fontsize=14)\n",
    "pass"
   ]
  },
  {
   "cell_type": "markdown",
   "metadata": {},
   "source": [
    "# 2. `rand10` from `rand7` (1)"
   ]
  },
  {
   "cell_type": "markdown",
   "metadata": {},
   "source": [
    "**Idea:** call `rand7` twice -> if $x \\leq 40$, ok, otherwise repeat\n",
    "\n",
    "$\n",
    "\\begin{align}\n",
    "\\mathbb{E}[\\text{calls}] = e &= \\texttt{succeed_first_try} \\ \\lor \\ \\texttt{repeat} \\\\\n",
    "e &= 2 \\cdot P(x \\leq 40) + P(x > 40) \\cdot (2 + e)\\\\\n",
    "e &= 2 \\cdot \\frac{40}{49} + 2\\cdot\\frac{9}{49} + e \\cdot \\frac{9}{49} \\\\\n",
    "e \\cdot \\frac{40}{49} &= 2 \\\\\n",
    "e &= \\frac{49}{20} = 2.45\n",
    "\\end{align}\n",
    "$\n",
    "\n",
    "### Ref\n",
    "- https://leetcode.com/problems/implement-rand10-using-rand7/"
   ]
  },
  {
   "cell_type": "code",
   "execution_count": null,
   "metadata": {},
   "outputs": [],
   "source": [
    "rand7 = lambda: np.random.randint(low=1, high=8)\n",
    "\n",
    "def rand10():\n",
    "    # idea: use [1,40], discard and repeat for [41,49]\n",
    "    \n",
    "    n = ((rand7() - 1) * 7) + rand7()\n",
    "    \n",
    "    if n <= 40:\n",
    "        return 1 + n % 10\n",
    "    else:\n",
    "        return rand10()"
   ]
  },
  {
   "cell_type": "code",
   "execution_count": null,
   "metadata": {},
   "outputs": [],
   "source": [
    "xs = np.array([rand10() for _ in range(100000)])\n",
    "support = np.unique(xs)\n",
    "plt.figure(figsize=(8,3))\n",
    "bins = np.arange(support.max() + 2) - 0.5\n",
    "plt.hist(xs, bins=bins, rwidth=0.25, color='b', density=True)\n",
    "plt.xticks(support)\n",
    "pass"
   ]
  },
  {
   "cell_type": "markdown",
   "metadata": {},
   "source": [
    "# 3. Random points in a circle"
   ]
  },
  {
   "cell_type": "code",
   "execution_count": null,
   "metadata": {},
   "outputs": [],
   "source": [
    "PI = np.arccos(-1)\n",
    "rand = lambda: np.random.uniform()\n",
    "\n",
    "def show(gen_func, circle, N=10_000):\n",
    "    xs, ys = zip(*[gen_func(circle) for _ in range(N)])\n",
    "    plt.figure(figsize=(5,5))\n",
    "    plt.scatter(xs, ys, s=0.2)\n",
    "    plt.grid(False)\n",
    "    pass"
   ]
  },
  {
   "cell_type": "markdown",
   "metadata": {},
   "source": [
    "### 3.1. Using polar coordinates"
   ]
  },
  {
   "cell_type": "code",
   "execution_count": null,
   "metadata": {},
   "outputs": [],
   "source": [
    "def polar_coordinates(circle):\n",
    "    \"\"\"\n",
    "    see: https://stackoverflow.com/questions/5837572/generate-a-random-point-within-a-circle-uniformly\n",
    "    \"\"\"\n",
    "    cx, cy, r = circle\n",
    "    \n",
    "    l = np.sqrt(rand()) * r\n",
    "    a = 2 * PI * rand()\n",
    "    \n",
    "    x = cx + l * np.cos(a)\n",
    "    y = cy + l * np.sin(a)\n",
    "    \n",
    "    return x, y\n",
    "\n",
    "show(polar_coordinates, circle=(0,0,1), N=10_000)"
   ]
  },
  {
   "cell_type": "markdown",
   "metadata": {},
   "source": [
    "## 3.2. Using rejection sampling\n",
    "\n",
    "- Given a circle $\\mathcal{C}$ centered in $(c_x, c_y)$ of radius $r$, we can enclose it in a square $\\mathcal{S}$ of size $2r$\n",
    "- One possible method for generating random points in $\\mathcal{C}$ is to generate random points in the square and discard those outside the circle\n",
    "- For each step we need to generate 2 points $(x, y)$\n",
    "- Thus, the expected number of trials can be found using $e = 2 \\cdot p + (1-p) \\cdot (2 + e)$, where $p = P((x,y) \\in \\mathcal{C}) = \\mathcal{A}_{\\mathcal{C}} \\ / \\ \\mathcal{A}_{\\mathcal{S}} = \\pi \\ / \\ 4$\n",
    "- We find that $e = 8 \\ / \\ \\pi$"
   ]
  },
  {
   "cell_type": "code",
   "execution_count": null,
   "metadata": {},
   "outputs": [],
   "source": [
    "def rejection_sampling(circle):\n",
    "    cx, cy, r = circle\n",
    "    \n",
    "    xm, xM = cx-r, cx+r\n",
    "    ym, yM = cy-r, cy+r\n",
    "    \n",
    "    rx = xm + rand() * (xM - xm)\n",
    "    ry = ym + rand() * (yM - ym)\n",
    "    \n",
    "    dist = (cx - rx) ** 2 + (cy - ry) ** 2\n",
    "    if dist <= r ** 2:\n",
    "        return rx, ry\n",
    "    \n",
    "    return rejection_sampling(circle) # discard + repeat\n",
    "\n",
    "show(rejection_sampling, circle=(0,0,1), N=10_000)"
   ]
  },
  {
   "cell_type": "markdown",
   "metadata": {},
   "source": [
    "# What we notice"
   ]
  },
  {
   "cell_type": "markdown",
   "metadata": {},
   "source": [
    "$\n",
    "\\begin{align}\n",
    "e &= \\texttt{success}_1 \\ \\lor \\ \\texttt{repeat} \\\\\n",
    "e &= \\texttt{success}_1 \\ \\lor \\ (\\texttt{fail}_1 \\ \\land \\ (\\texttt{success}_2 \\ \\lor \\ \\texttt{repeat})) \\\\\n",
    "e &= \\texttt{success}_1 \\ \\lor \\ (\\texttt{fail}_1 \\ \\land \\ (\\texttt{fail}_2 \\ \\land \\ (\\texttt{success}_3 \\ \\lor \\ \\texttt{repeat}))) \\\\\n",
    "e &= \\texttt{success}_1 \\ \\lor \\ (\\texttt{fail}_1 \\ \\land \\ (\\texttt{fail}_2 \\ \\land \\ (\\texttt{fail}_3 \\ \\lor \\ (\\texttt{success}_4 \\ \\lor \\ \\texttt{repeat}))))\n",
    "\\end{align}\n",
    "$\n",
    "\n",
    "$\\vdots$\n",
    "\n",
    "Therefore, if we let $n =$ number of samples in one step (e.g. calls to `rand7`, coin tosses), and $p = P(\\texttt{success})$, then:\n",
    "\n",
    "$\n",
    "\\begin{align}\n",
    "e &= p \\cdot n + (1-p) \\cdot (n + e) \\\\\n",
    "e &= p \\cdot n + n + e - p \\cdot n - p \\cdot e \\\\\n",
    "e \\cdot p &= n \\Rightarrow e = n \\ / \\ p\n",
    "\\end{align}\n",
    "$\n",
    "\n",
    "Thus, $\\color{blue}{\\mathbb{E}[\\texttt{trials}] = n \\ / \\ P(\\texttt{success})}$\n",
    "\n",
    "This essentially forms a Markov Chain, so we are interested in expected number of transitions until we reach a certain state. See [this answer](https://math.stackexchange.com/a/947339)."
   ]
  }
 ],
 "metadata": {
  "kernelspec": {
   "display_name": "Python 3",
   "language": "python",
   "name": "python3"
  },
  "language_info": {
   "codemirror_mode": {
    "name": "ipython",
    "version": 3
   },
   "file_extension": ".py",
   "mimetype": "text/x-python",
   "name": "python",
   "nbconvert_exporter": "python",
   "pygments_lexer": "ipython3",
   "version": "3.7.6"
  }
 },
 "nbformat": 4,
 "nbformat_minor": 4
}
