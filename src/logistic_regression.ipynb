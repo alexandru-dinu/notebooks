{
 "cells": [
  {
   "cell_type": "code",
   "execution_count": null,
   "id": "d1ef8785-7ac7-4b98-9f4b-4830d6a13ab1",
   "metadata": {},
   "outputs": [],
   "source": [
    "import os\n",
    "import sys\n",
    "from pathlib import Path\n",
    "\n",
    "import pandas as pd\n",
    "import numpy as np\n",
    "\n",
    "import matplotlib.pyplot as plt\n",
    "import seaborn as sns\n",
    "\n",
    "from sklearn.datasets import make_classification\n",
    "from sklearn.linear_model import LogisticRegression\n",
    "import statsmodels.api as sm\n",
    "\n",
    "%matplotlib inline\n",
    "%config InlineBackend.figure_format = 'retina'\n",
    "sns.set()"
   ]
  },
  {
   "cell_type": "code",
   "execution_count": null,
   "id": "18d64870-b2ac-4c11-8a87-4a8c39aa4d06",
   "metadata": {},
   "outputs": [],
   "source": [
    "def sigmoid(x):\n",
    "    return 1 / (1 + np.exp(-x))\n",
    "\n",
    "def logit(x):\n",
    "    return np.log(x / (1 - x))"
   ]
  },
  {
   "cell_type": "markdown",
   "id": "5a6420c8-ee2d-4454-bc16-cca2baca564e",
   "metadata": {},
   "source": [
    "## Logistic regression\n",
    "\n",
    "$\\mathsf{logit}(p) = \\beta_0 + \\beta_1 x$"
   ]
  },
  {
   "cell_type": "code",
   "execution_count": null,
   "id": "32d2d191-5671-4c28-b6be-545eebed0494",
   "metadata": {},
   "outputs": [],
   "source": [
    "n = 200\n",
    "cutoff = 30\n",
    "\n",
    "X = np.random.randint(low=0, high=100, size=n)\n",
    "\n",
    "noise = np.random.binomial(n=1, p=0.05, size=n).astype(bool)\n",
    "mask = (X >= cutoff) ^ noise\n",
    "\n",
    "y = mask.astype(int)\n",
    "\n",
    "# fig logistic regression model\n",
    "reg = LogisticRegression()\n",
    "reg.fit(X.reshape(-1,1), y)\n",
    "m = reg.coef_.item()\n",
    "b = reg.intercept_.item()\n",
    "\n",
    "print(m, b)\n",
    "\n",
    "# logit(p) = mx + b => p = sigmoid(mx + b)\n",
    "plt.figure(figsize=(12, 4))\n",
    "\n",
    "plt.scatter(X, y, s=5, label='data')\n",
    "plt.vlines(cutoff, 0, 1, linestyle='--', alpha=0.5, lw=2, color='r', label='cutoff')\n",
    "\n",
    "xs = np.linspace(X.min(), X.max(), 100)\n",
    "plt.plot(xs, sigmoid(m * xs + b), lw=2, color='r', label='model')\n",
    "\n",
    "plt.legend()\n",
    "pass"
   ]
  },
  {
   "cell_type": "code",
   "execution_count": null,
   "id": "68bcc073-d958-4732-ba5a-aff9fbd4a3c2",
   "metadata": {},
   "outputs": [],
   "source": [
    "sm.Logit(y, sm.add_constant(X)).fit().summary()"
   ]
  },
  {
   "cell_type": "code",
   "execution_count": null,
   "id": "b74a9a26-833f-4d32-a1c2-5e20cd42e63a",
   "metadata": {},
   "outputs": [],
   "source": [
    "# https://stats.stackexchange.com/questions/89484/how-to-compute-the-standard-errors-of-a-logistic-regressions-coefficients\n",
    "\n",
    "predProbs = reg.predict_proba(X.reshape(-1, 1))\n",
    "\n",
    "# Design matrix -- add column of 1's at the beginning of your X_train matrix\n",
    "X_design = np.hstack([np.ones((X.shape[0], 1)), X.reshape(-1, 1)])\n",
    "\n",
    "# Initiate matrix of 0's, fill diagonal with each predicted observation's variance\n",
    "V = np.diagflat(np.product(predProbs, axis=1))\n",
    "\n",
    "print(\"Logit params:\\n\", np.round(logitParams, 4))\n",
    "\n",
    "# Covariance matrix\n",
    "covLogit = np.linalg.inv(X_design.T @ V @ X_design)\n",
    "print(\"Covariance matrix:\\n\", np.round(covLogit, 3))\n",
    "\n",
    "# Standard errors\n",
    "print(\"Standard errors:\\n\", np.round(np.sqrt(np.diag(covLogit)), 3))\n",
    "\n",
    "# Wald statistic (coefficient / s.e.) ^ 2\n",
    "logitParams = np.insert(reg.coef_, 0, reg.intercept_)\n",
    "print(\"z statistics:\\n\", np.round(logitParams / np.sqrt(np.diag(covLogit)),3))"
   ]
  },
  {
   "cell_type": "code",
   "execution_count": null,
   "id": "1d7218d4-8580-4387-8e3d-f02f6c85c7e4",
   "metadata": {},
   "outputs": [],
   "source": []
  }
 ],
 "metadata": {
  "kernelspec": {
   "display_name": "Python 3 (ipykernel)",
   "language": "python",
   "name": "python3"
  },
  "language_info": {
   "codemirror_mode": {
    "name": "ipython",
    "version": 3
   },
   "file_extension": ".py",
   "mimetype": "text/x-python",
   "name": "python",
   "nbconvert_exporter": "python",
   "pygments_lexer": "ipython3",
   "version": "3.9.9"
  }
 },
 "nbformat": 4,
 "nbformat_minor": 5
}
