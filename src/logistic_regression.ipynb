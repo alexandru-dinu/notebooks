{
 "cells": [
  {
   "cell_type": "markdown",
   "id": "05736b23-ff28-41a4-a65b-97a4f87a4737",
   "metadata": {
    "pycharm": {
     "name": "#%% md\n"
    }
   },
   "source": [
    "# Logistic regresssion\n",
    "\n",
    "- https://stats.oarc.ucla.edu/other/mult-pkg/faq/general/faq-how-do-i-interpret-odds-ratios-in-logistic-regression/\n",
    "- https://scipython.com/blog/plotting-the-decision-boundary-of-a-logistic-regression-model/\n",
    "\n",
    "\n",
    "$\\mathsf{logit}(p) = \\log \\left( \\frac{p}{1-p} \\right) = \\beta_0 + \\beta_1 x_1 + \\dots + \\beta_k x_k$"
   ]
  },
  {
   "cell_type": "code",
   "execution_count": null,
   "id": "d1ef8785-7ac7-4b98-9f4b-4830d6a13ab1",
   "metadata": {
    "pycharm": {
     "name": "#%%\n"
    }
   },
   "outputs": [],
   "source": [
    "import os\n",
    "import sys\n",
    "from pathlib import Path\n",
    "\n",
    "import pandas as pd\n",
    "import numpy as np\n",
    "\n",
    "import matplotlib.pyplot as plt\n",
    "import seaborn as sns\n",
    "\n",
    "from sklearn.datasets import make_classification\n",
    "from sklearn.linear_model import LogisticRegression\n",
    "import statsmodels.api as sm\n",
    "\n",
    "%matplotlib inline\n",
    "%config InlineBackend.figure_format = 'retina'\n",
    "sns.set()"
   ]
  },
  {
   "cell_type": "code",
   "execution_count": null,
   "id": "650a7fd0",
   "metadata": {
    "jupyter": {
     "outputs_hidden": false
    },
    "pycharm": {
     "name": "#%%\n"
    }
   },
   "outputs": [],
   "source": [
    "def show_dataset(X, y):\n",
    "    cs = np.array([\"g\"] * len(y))\n",
    "    cs[np.where(y == 0)] = \"r\"\n",
    "    plt.scatter(X[:, 0], X[:, 1], c=cs, cmap=\"jet\", s=10)"
   ]
  },
  {
   "cell_type": "code",
   "execution_count": null,
   "id": "06f43f4a",
   "metadata": {
    "jupyter": {
     "outputs_hidden": false
    },
    "pycharm": {
     "name": "#%%\n"
    }
   },
   "outputs": [],
   "source": [
    "X = np.random.uniform(size=(1000, 2))\n",
    "\n",
    "# y = ((X[:, 0] < 0.5) ^ (X[:, 1] < 0.5)).astype(int)\n",
    "\n",
    "y = (X.sum(axis=1) <= 0.8).astype(int)"
   ]
  },
  {
   "cell_type": "code",
   "execution_count": null,
   "id": "6f077dea",
   "metadata": {
    "jupyter": {
     "outputs_hidden": false
    },
    "pycharm": {
     "name": "#%%\n"
    }
   },
   "outputs": [],
   "source": [
    "show_dataset(X, y)"
   ]
  },
  {
   "cell_type": "code",
   "execution_count": null,
   "id": "e2ee1b32",
   "metadata": {
    "jupyter": {
     "outputs_hidden": false
    },
    "pycharm": {
     "name": "#%%\n"
    }
   },
   "outputs": [],
   "source": [
    "model = LogisticRegression(fit_intercept=True)\n",
    "model.fit(X, y)\n",
    "\n",
    "b1, b2 = model.coef_[0]\n",
    "b0 = model.intercept_.item()\n",
    "print(f\"logit(p) = {b0:.5} + {b1:.5} * x1 + {b2:.5} * x2\")\n",
    "print(f\"{model.score(X, y) = }\")"
   ]
  },
  {
   "cell_type": "code",
   "execution_count": null,
   "id": "0b009c41",
   "metadata": {
    "jupyter": {
     "outputs_hidden": false
    },
    "pycharm": {
     "name": "#%%\n"
    }
   },
   "outputs": [],
   "source": [
    "c = -b0 / b2\n",
    "m = -b1 / b2\n",
    "\n",
    "z = np.linspace(0, 1, 100)\n",
    "plt.figure(figsize=(14, 8))\n",
    "plt.plot(z, m * z + c, lw=4, linestyle=\"--\", color=\"k\")\n",
    "show_dataset(X, y)\n",
    "eps = 1e-1\n",
    "plt.xlim(0 - eps, 1 + eps)\n",
    "plt.ylim(0 - eps, 1 + eps)\n",
    "pass"
   ]
  },
  {
   "cell_type": "markdown",
   "id": "d8c79f46",
   "metadata": {
    "pycharm": {
     "name": "#%% md\n"
    }
   },
   "source": [
    "---"
   ]
  },
  {
   "cell_type": "code",
   "execution_count": null,
   "id": "32248ce3",
   "metadata": {
    "jupyter": {
     "outputs_hidden": false
    },
    "pycharm": {
     "name": "#%%\n"
    }
   },
   "outputs": [],
   "source": [
    "def sigmoid(x):\n",
    "    return 1 / (1 + np.exp(-x))\n",
    "\n",
    "\n",
    "def logit(x):\n",
    "    return np.log(x / (1 - x))"
   ]
  },
  {
   "cell_type": "code",
   "execution_count": null,
   "id": "b99edc03",
   "metadata": {
    "jupyter": {
     "outputs_hidden": false
    },
    "pycharm": {
     "name": "#%%\n"
    }
   },
   "outputs": [],
   "source": [
    "n = 200\n",
    "cutoff = 30\n",
    "\n",
    "X = np.random.randint(low=0, high=100, size=n)\n",
    "\n",
    "noise = np.random.binomial(n=1, p=0.05, size=n).astype(bool)\n",
    "mask = (X >= cutoff) ^ noise\n",
    "\n",
    "y = mask.astype(int)\n",
    "\n",
    "# fig logistic regression model\n",
    "reg = LogisticRegression()\n",
    "reg.fit(X.reshape(-1, 1), y)\n",
    "m = reg.coef_.item()\n",
    "b = reg.intercept_.item()\n",
    "\n",
    "print(m, b)\n",
    "\n",
    "# logit(p) = mx + b => p = sigmoid(mx + b)\n",
    "plt.figure(figsize=(12, 4))\n",
    "\n",
    "plt.scatter(X, y, s=5, label=\"data\")\n",
    "plt.vlines(cutoff, 0, 1, linestyle=\"--\", alpha=0.5, lw=2, color=\"r\", label=\"cutoff\")\n",
    "\n",
    "xs = np.linspace(X.min(), X.max(), 100)\n",
    "plt.plot(xs, sigmoid(m * xs + b), lw=2, color=\"r\", label=\"model\")\n",
    "\n",
    "plt.legend()\n",
    "pass"
   ]
  },
  {
   "cell_type": "code",
   "execution_count": null,
   "id": "047a213b",
   "metadata": {
    "jupyter": {
     "outputs_hidden": false
    },
    "pycharm": {
     "name": "#%%\n"
    }
   },
   "outputs": [],
   "source": [
    "sm.Logit(y, sm.add_constant(X)).fit().summary()"
   ]
  },
  {
   "cell_type": "code",
   "execution_count": null,
   "id": "f04472eb",
   "metadata": {
    "jupyter": {
     "outputs_hidden": false
    },
    "pycharm": {
     "name": "#%%\n"
    }
   },
   "outputs": [],
   "source": [
    "# https://stats.stackexchange.com/questions/89484/how-to-compute-the-standard-errors-of-a-logistic-regressions-coefficients\n",
    "\n",
    "predProbs = reg.predict_proba(X.reshape(-1, 1))\n",
    "\n",
    "# Design matrix -- add column of 1's at the beginning of your X_train matrix\n",
    "X_design = np.hstack([np.ones((X.shape[0], 1)), X.reshape(-1, 1)])\n",
    "\n",
    "# Initiate matrix of 0's, fill diagonal with each predicted observation's variance\n",
    "V = np.diagflat(np.product(predProbs, axis=1))\n",
    "\n",
    "print(\"Logit params:\\n\", np.round(logitParams, 4))\n",
    "\n",
    "# Covariance matrix\n",
    "covLogit = np.linalg.inv(X_design.T @ V @ X_design)\n",
    "print(\"Covariance matrix:\\n\", np.round(covLogit, 3))\n",
    "\n",
    "# Standard errors\n",
    "print(\"Standard errors:\\n\", np.round(np.sqrt(np.diag(covLogit)), 3))\n",
    "\n",
    "# Wald statistic (coefficient / s.e.) ^ 2\n",
    "logitParams = np.insert(reg.coef_, 0, reg.intercept_)\n",
    "print(\"z statistics:\\n\", np.round(logitParams / np.sqrt(np.diag(covLogit)), 3))"
   ]
  },
  {
   "cell_type": "code",
   "execution_count": null,
   "id": "1d7218d4-8580-4387-8e3d-f02f6c85c7e4",
   "metadata": {
    "pycharm": {
     "name": "#%%\n"
    }
   },
   "outputs": [],
   "source": []
  }
 ],
 "metadata": {
  "kernelspec": {
   "display_name": "Python 3 (ipykernel)",
   "language": "python",
   "name": "python3"
  },
  "language_info": {
   "codemirror_mode": {
    "name": "ipython",
    "version": 3
   },
   "file_extension": ".py",
   "mimetype": "text/x-python",
   "name": "python",
   "nbconvert_exporter": "python",
   "pygments_lexer": "ipython3",
   "version": "3.10.6"
  }
 },
 "nbformat": 4,
 "nbformat_minor": 5
}
