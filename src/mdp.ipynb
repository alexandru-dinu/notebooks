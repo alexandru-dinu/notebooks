{
 "cells": [
  {
   "cell_type": "code",
   "execution_count": null,
   "metadata": {},
   "outputs": [],
   "source": [
    "from pprint import pprint\n",
    "import numpy as np\n",
    "import seaborn as sns\n",
    "import matplotlib.pyplot as plt\n",
    "from tqdm.auto import tqdm\n",
    "from collections import defaultdict\n",
    "from itertools import takewhile"
   ]
  },
  {
   "cell_type": "code",
   "execution_count": null,
   "metadata": {},
   "outputs": [],
   "source": [
    "def show_grid(x, title='Plot'):\n",
    "    xs = np.zeros((3,4))\n",
    "    for i in range(3):\n",
    "        for j in range(4):\n",
    "            xs[i,j] = x.get((i,j), 0)\n",
    "    \n",
    "    %matplotlib inline\n",
    "    plt.figure(figsize=(8, 6))\n",
    "    ax = sns.heatmap(\n",
    "        xs, vmin=xs.min(), vmax=xs.max(), annot=True, fmt=\".5f\", \n",
    "        cmap=\"YlGnBu\", annot_kws={\"fontsize\": 14}\n",
    "    )\n",
    "    ax.set_title(title, fontsize=16)\n",
    "    \n",
    "h = lambda x: max(0, min(x, 2))\n",
    "w = lambda x: max(0, min(x, 3))\n",
    "\n",
    "from_map = lambda p: (3-p[0], p[1]-1)\n",
    "to_map   = lambda p: (3-p[0], p[1]+1)\n",
    "is_good  = lambda p: 0<=p[0]<3 and 0<=p[1]<4\n",
    "\n",
    "def dict_to_map_c(d):\n",
    "    return {to_map(k): v for k, v in d.items()}\n",
    "\n",
    "def adj(s):\n",
    "    si, sj = s\n",
    "    out = []\n",
    "    for i in [-1, 0, 1]:\n",
    "        for j in [-1, 0, 1]:\n",
    "            if is_good((si+i, sj+j)) and (si+i, sj+j) not in [(1,1), (0,3), (1,3)]:\n",
    "                out += [(si+i, sj+j)]\n",
    "    return out\n",
    "\n",
    "def perp(s, a):\n",
    "    i, j = s\n",
    "    \n",
    "    if a in ['u', 'd']:\n",
    "        pos = [(i,w(j-1)), (i,w(j+1))]\n",
    "        if (1,1) in pos:\n",
    "            pos.remove((1,1))\n",
    "            pos.append((i,j))\n",
    "        return set(pos)\n",
    "    \n",
    "    if a in ['l', 'r']:\n",
    "        pos = [(h(i-1),j), (h(i+1),j)]\n",
    "        if (1,1) in pos:\n",
    "            pos.remove((1,1))\n",
    "            pos.append((i,j))\n",
    "        return set(pos)"
   ]
  },
  {
   "cell_type": "code",
   "execution_count": null,
   "metadata": {},
   "outputs": [],
   "source": [
    "gamma = 1.0\n",
    "num_iter = 1000 + 1\n",
    "actions = ['u', 'd', 'l', 'r']\n",
    "\n",
    "reserved = [(1,1), (0,3), (1,3)]\n",
    "\n",
    "neighbours = {}\n",
    "for i in range(3):\n",
    "    for j in range(4):\n",
    "        if (i, j) in reserved:\n",
    "            neighbours[i, j] = {}\n",
    "            continue\n",
    "            \n",
    "        u = (h(i-1), j)\n",
    "        d = (h(i+1), j)\n",
    "        l = (i, w(j-1))\n",
    "        r = (i, w(j+1))\n",
    "        \n",
    "        if u == (1, 1): u = (i, j)\n",
    "        if l == (1, 1): l = (i, j)\n",
    "        if r == (1, 1): r = (i, j)\n",
    "        if d == (1, 1): d = (i, j)\n",
    "        \n",
    "        neighbours[i,j] = {'u': u, 'l': l, 'r': r, 'd': d}\n",
    "    \n",
    "\n",
    "_default_reward = -0.04\n",
    "rewards = {s: _default_reward for s in neighbours}\n",
    "rewards[0,3] = 1\n",
    "rewards[1,3] = -1\n",
    "\n",
    "# (1-wall, 2-walls)\n",
    "obs = np.array([\n",
    "    [(0.1, 0.9), (0.1, 0.9), (0.9, 0.1), (0.1, 0.9)],\n",
    "    [(0.1, 0.9), (0.0, 0.0), (0.9, 0.1), (0.9, 0.1)],\n",
    "    [(0.1, 0.9), (0.1, 0.9), (0.9, 0.1), (0.1, 0.9)],\n",
    "])\n",
    "\n",
    "\n",
    "def get_states():\n",
    "    s = list(neighbours.keys())\n",
    "    for r in reserved:\n",
    "        s.remove(r)\n",
    "    return s\n",
    "\n",
    "def get_states_no_obstacles():\n",
    "    s = list(neighbours.keys())\n",
    "    for r in [(1,1)]:\n",
    "        s.remove(r)\n",
    "    return s\n",
    "\n",
    "def get_prob_by_sa(s, a):\n",
    "    p = {}\n",
    "    ps = perp(s, a) - {neighbours[s][a]}\n",
    "\n",
    "    for s_ in ps:\n",
    "        p[s_] = 0.2 / len(ps)\n",
    "    \n",
    "    p[neighbours[s][a]] = 0.8\n",
    "    \n",
    "    assert np.isclose(sum(p.values()), 1.0)\n",
    "    \n",
    "    return p\n",
    "\n",
    "\n",
    "def get_incoming(s, a):\n",
    "    d = []\n",
    "    for s_ in adj(s):\n",
    "        d += [(s_, v) for k, v in get_prob_by_sa(s_, a).items() if k == s]\n",
    "    return d"
   ]
  },
  {
   "cell_type": "code",
   "execution_count": null,
   "metadata": {},
   "outputs": [],
   "source": [
    "# for s in neighbours:\n",
    "#     if s in reserved:\n",
    "#         continue\n",
    "#     for a in actions:\n",
    "#         print(to_map(s), a, dict_to_map_c(get_prob_by_sa(s,a)))\n",
    "#     print(\"---\")\n",
    "    \n",
    "# fr = from_map((1,4))\n",
    "# to = from_map((1,4))\n",
    "\n",
    "# q = defaultdict(lambda: [])\n",
    "# for a in actions:\n",
    "#     ha = get_prob_by_sa(fr, a)\n",
    "#     q[a] += [v for k, v in ha.items() if k == to]\n",
    "    \n",
    "# print(to_map(fr), \"->\", to_map(to))\n",
    "# d = dict(q)\n",
    "# for a in actions:\n",
    "#     print(a, d[a])"
   ]
  },
  {
   "cell_type": "markdown",
   "metadata": {},
   "source": [
    "## POMDP - Belief States"
   ]
  },
  {
   "cell_type": "code",
   "execution_count": null,
   "metadata": {},
   "outputs": [],
   "source": [
    "bnum_iter = 3\n",
    "_a = 'l'\n",
    "_o = 1\n",
    "\n",
    "beliefs = {k: {s: 0 for s in get_states_no_obstacles()} for k in range(bnum_iter)}\n",
    "beliefs[0] = {s: 1/9 for s in get_states_no_obstacles()}\n",
    "beliefs[0][0,3] = 0\n",
    "beliefs[0][1,3] = 0\n",
    "\n",
    "for k in range(1, bnum_iter):\n",
    "    for s in get_states_no_obstacles():\n",
    "        \n",
    "        ns = 0\n",
    "        for fs, p in get_incoming(s, _a):\n",
    "            ns += (p * beliefs[k-1][fs])\n",
    "        \n",
    "        beliefs[k][s] = obs[s][_o-1] * ns\n",
    "    \n",
    "    alpha = sum(beliefs[k].values())\n",
    "    for s_ in beliefs[k]:\n",
    "        beliefs[k][s_] = float('%.5f' % (beliefs[k][s_] / alpha))\n",
    "#     assert np.isclose(sum(beliefs[k].values()), 1)\n",
    "    \n",
    "    \n",
    "i = bnum_iter - 1\n",
    "show_grid(beliefs[i], f'Beliefs - Iteration {i}')"
   ]
  },
  {
   "cell_type": "markdown",
   "metadata": {},
   "source": [
    "## MDP - Value Iteration"
   ]
  },
  {
   "cell_type": "markdown",
   "metadata": {},
   "source": [
    "$$V_{k+1}(s) = \\max_{a}\\sum_{s{}'}p(s\\xrightarrow{a}s{}')(r(s\\xrightarrow{a}s{}') + \\gamma V_{k}(s{}'))$$"
   ]
  },
  {
   "cell_type": "code",
   "execution_count": null,
   "metadata": {},
   "outputs": [],
   "source": [
    "# values = {k: {s:0 for s in neighbours.keys()} for k in range(num_iter)}\n",
    "# # values[0] = {s: rewards[s] for s in neighbours.keys()}\n",
    "# policy = {k: {s:'' for s in neighbours.keys()} for k in range(num_iter)}\n",
    "\n",
    "# for k in tqdm(range(1, num_iter)):\n",
    "#     for s in get_states():\n",
    "        \n",
    "#         a_values = {}\n",
    "#         for a in actions:\n",
    "#             psa = get_prob_by_sa(s, a)\n",
    "#             a_values[a] = round(sum([psa[s_n] * (rewards[s_n] + gamma * values[k-1][s_n]) for s_n in psa]), 5)\n",
    "\n",
    "#         ma = max(a_values.values())\n",
    "#         _as = sorted(a_values.items(), key=lambda x: -x[1])\n",
    "#         policy[k][s] = list(takewhile(lambda x: x[1] == ma, _as))\n",
    "        \n",
    "#         values[k][s] = float('%.4f' % ma)"
   ]
  },
  {
   "cell_type": "markdown",
   "metadata": {},
   "source": [
    "$$V_{k+1}(s) = R(s) + \\gamma \\max_a \\sum_{s{}'}p(s\\xrightarrow{a}s{}')\\cdot V_{k}(s{}')$$"
   ]
  },
  {
   "cell_type": "code",
   "execution_count": null,
   "metadata": {},
   "outputs": [],
   "source": [
    "values = {k: {s:0 for s in neighbours.keys()} for k in range(num_iter)}\n",
    "# values[0] = {s: rewards[s] for s in neighbours.keys()}\n",
    "policy = {k: {s:'' for s in neighbours.keys()} for k in range(num_iter)}\n",
    "\n",
    "for k in tqdm(range(1, num_iter)):\n",
    "    for s in neighbours.keys():\n",
    "        if s == (1,1): continue\n",
    "        if s in reserved:\n",
    "            values[k][s] = rewards[s]\n",
    "            continue\n",
    "        \n",
    "        a_values = {}\n",
    "        for a in actions:\n",
    "            psa = get_prob_by_sa(s, a)\n",
    "            a_values[a] = round(sum([psa[s_n] * values[k-1][s_n] for s_n in psa]), 5)\n",
    "        \n",
    "        ma = max(a_values.values())\n",
    "        _as = sorted(a_values.items(), key=lambda x: -x[1])\n",
    "        policy[k][s] = list(takewhile(lambda x: x[1] == ma, _as))\n",
    "        \n",
    "        values[k][s] = float('%.4f' % (rewards[s] + gamma * ma))"
   ]
  },
  {
   "cell_type": "code",
   "execution_count": null,
   "metadata": {},
   "outputs": [],
   "source": [
    "show_grid(values[1], 'Value Iteration - 1')"
   ]
  },
  {
   "cell_type": "code",
   "execution_count": null,
   "metadata": {},
   "outputs": [],
   "source": [
    "show_grid(values[2], 'Value Iteration - 2')"
   ]
  },
  {
   "cell_type": "code",
   "execution_count": null,
   "metadata": {},
   "outputs": [],
   "source": [
    "show_grid(values[num_iter-1], f'Value Iteration - {num_iter - 1}')"
   ]
  },
  {
   "cell_type": "code",
   "execution_count": null,
   "metadata": {},
   "outputs": [],
   "source": [
    "policy[num_iter-1]"
   ]
  }
 ],
 "metadata": {
  "kernelspec": {
   "display_name": "Python 3 (ipykernel)",
   "language": "python",
   "name": "python3"
  },
  "language_info": {
   "codemirror_mode": {
    "name": "ipython",
    "version": 3
   },
   "file_extension": ".py",
   "mimetype": "text/x-python",
   "name": "python",
   "nbconvert_exporter": "python",
   "pygments_lexer": "ipython3",
   "version": "3.10.6"
  }
 },
 "nbformat": 4,
 "nbformat_minor": 4
}
