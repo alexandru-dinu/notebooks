{
 "cells": [
  {
   "cell_type": "code",
   "execution_count": null,
   "metadata": {
    "pycharm": {
     "name": "#%%\n"
    }
   },
   "outputs": [],
   "source": [
    "import numpy as np\n",
    "import torch as T\n",
    "from torch import nn, optim\n",
    "from torch.utils.data import TensorDataset, DataLoader\n",
    "from sklearn.model_selection import train_test_split\n",
    "from tqdm.auto import tqdm\n",
    "\n",
    "import matplotlib.pyplot as plt\n",
    "import seaborn as sns\n",
    "from IPython import display\n",
    "\n",
    "%matplotlib inline\n",
    "%config InlineBackend.figure_format = 'retina'\n",
    "sns.set()"
   ]
  },
  {
   "cell_type": "code",
   "execution_count": null,
   "metadata": {
    "jupyter": {
     "outputs_hidden": false
    },
    "pycharm": {
     "name": "#%%\n"
    }
   },
   "outputs": [],
   "source": [
    "def func(x):\n",
    "    return np.sin(x) * np.cos(0.5 * x)\n",
    "\n",
    "\n",
    "X = np.random.rand(100_000) * 2 * np.pi\n",
    "# X = np.linspace(-10, 10, 100_000)\n",
    "Y = func(X)\n",
    "\n",
    "plt.figure(figsize=(7, 2))\n",
    "plt.scatter(X, Y, s=0.05)"
   ]
  },
  {
   "cell_type": "code",
   "execution_count": null,
   "metadata": {
    "jupyter": {
     "outputs_hidden": false
    },
    "pycharm": {
     "name": "#%%\n"
    }
   },
   "outputs": [],
   "source": [
    "class FuncApprox(nn.Module):\n",
    "    def __init__(self, num_in, num_out):\n",
    "        super(FuncApprox, self).__init__()\n",
    "        self.model = nn.Sequential(\n",
    "            nn.Linear(num_in, 1024),\n",
    "            nn.ReLU(inplace=True),\n",
    "            nn.Linear(1024, 1024),\n",
    "            nn.ReLU(inplace=True),\n",
    "            nn.Linear(1024, num_out),\n",
    "        )\n",
    "\n",
    "    def forward(self, x):\n",
    "        return self.model(x)"
   ]
  },
  {
   "cell_type": "code",
   "execution_count": null,
   "metadata": {
    "jupyter": {
     "outputs_hidden": false
    },
    "pycharm": {
     "name": "#%%\n"
    }
   },
   "outputs": [],
   "source": [
    "def test(model):\n",
    "    def get(xs):\n",
    "        with T.no_grad():\n",
    "            return model(T.tensor([xs]).T.float().cuda()).cpu()\n",
    "\n",
    "    #     xs = np.random.rand(10_000) * 2 * np.pi\n",
    "    xs = X\n",
    "    ys = get(xs)\n",
    "\n",
    "    plt.scatter(xs, ys, s=0.5, c=\"r\", label=\"approx\")\n",
    "    plt.scatter(xs, func(xs), s=0.5, c=\"g\", alpha=0.7, label=\"true\")\n",
    "    plt.legend()"
   ]
  },
  {
   "cell_type": "code",
   "execution_count": null,
   "metadata": {
    "jupyter": {
     "outputs_hidden": false
    },
    "pycharm": {
     "name": "#%%\n"
    }
   },
   "outputs": [],
   "source": [
    "BATCH_SIZE = 1024\n",
    "LR = 1e-3\n",
    "NUM_EPOCHS = 100\n",
    "\n",
    "X_train, X_val, y_train, y_val = map(T.tensor, train_test_split(X, Y, test_size=0.2))\n",
    "\n",
    "train_dl = DataLoader(\n",
    "    TensorDataset(X_train.unsqueeze(1), y_train.unsqueeze(1)),\n",
    "    batch_size=BATCH_SIZE,\n",
    "    shuffle=True,\n",
    ")\n",
    "val_dl = DataLoader(\n",
    "    TensorDataset(X_val.unsqueeze(1), y_val.unsqueeze(1)),\n",
    "    batch_size=BATCH_SIZE,\n",
    "    shuffle=True,\n",
    ")\n",
    "\n",
    "model = FuncApprox(num_in=1, num_out=1)\n",
    "optimizer = optim.Adam(model.parameters(), lr=LR)\n",
    "criterion = nn.MSELoss(reduction=\"sum\")\n",
    "\n",
    "model.cuda()\n",
    "\n",
    "for epoch in tqdm(range(1, NUM_EPOCHS + 1)):\n",
    "    model.train()\n",
    "    tl = 0\n",
    "\n",
    "    for X_train, y_train in train_dl:\n",
    "        X_train = X_train.type(T.float32).cuda()\n",
    "        y_train = y_train.type(T.float32).cuda()\n",
    "\n",
    "        optimizer.zero_grad()\n",
    "\n",
    "        y_hat = model(X_train)\n",
    "        loss = criterion(input=y_hat, target=y_train)\n",
    "        loss.backward()\n",
    "\n",
    "        tl += loss.item() / len(train_dl)\n",
    "\n",
    "        optimizer.step()\n",
    "\n",
    "    model.eval()\n",
    "    vl = 0\n",
    "\n",
    "    for X_val, y_val in val_dl:\n",
    "        X_val = X_val.type(T.float32).cuda()\n",
    "        y_val = y_val.type(T.float32).cuda()\n",
    "\n",
    "        y_hat = model(X_val)\n",
    "\n",
    "        loss = criterion(input=y_hat, target=y_val)\n",
    "        vl += loss.item() / len(val_dl)\n",
    "\n",
    "    done = vl <= 0.18\n",
    "\n",
    "    if True:  # epoch % (NUM_EPOCHS//10) == 0:\n",
    "        print(\n",
    "            f\"epoch {epoch:3d} / {NUM_EPOCHS:3d} | train loss = {tl:,.12f} | val loss = {vl:,.12f}\"\n",
    "        )\n",
    "\n",
    "        plt.figure(figsize=(8, 4))\n",
    "        test(model)\n",
    "        plt.show()\n",
    "\n",
    "        if epoch != NUM_EPOCHS and not done:\n",
    "            display.clear_output(wait=True)\n",
    "\n",
    "    if done:\n",
    "        break"
   ]
  },
  {
   "cell_type": "code",
   "execution_count": null,
   "metadata": {
    "jupyter": {
     "outputs_hidden": false
    },
    "pycharm": {
     "name": "#%%\n"
    }
   },
   "outputs": [],
   "source": []
  }
 ],
 "metadata": {
  "kernelspec": {
   "display_name": "Python 3 (ipykernel)",
   "language": "python",
   "name": "python3"
  },
  "language_info": {
   "codemirror_mode": {
    "name": "ipython",
    "version": 3
   },
   "file_extension": ".py",
   "mimetype": "text/x-python",
   "name": "python",
   "nbconvert_exporter": "python",
   "pygments_lexer": "ipython3",
   "version": "3.10.6"
  }
 },
 "nbformat": 4,
 "nbformat_minor": 4
}
