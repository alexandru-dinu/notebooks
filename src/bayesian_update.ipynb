{
 "cells": [
  {
   "cell_type": "markdown",
   "id": "3f38613c-bc92-4383-959e-52ee26bae916",
   "metadata": {},
   "source": [
    "## Example of bayesian update\n",
    "\n",
    "https://personal.utdallas.edu/~nrr150130/cs7301/2016fa/lects/Lecture_14_Bayes.pdf"
   ]
  },
  {
   "cell_type": "code",
   "execution_count": null,
   "id": "ddf23969-ba34-4369-b843-7838dbe74e5c",
   "metadata": {},
   "outputs": [],
   "source": [
    "from dataclasses import dataclass\n",
    "\n",
    "import numpy as np"
   ]
  },
  {
   "cell_type": "code",
   "execution_count": null,
   "id": "21376d2e-4e5f-4ab3-95d1-56edbdc4d723",
   "metadata": {},
   "outputs": [],
   "source": [
    "class Model:\n",
    "    def __init__(self, *, tp: float, fn: float, fp: float, tn: float):\n",
    "        \"\"\"\n",
    "        tp = Pr(+|h): sensitivity\n",
    "        fn = Pr(-|h)\n",
    "        fp = Pr(+|~h)\n",
    "        tn = Pr(-|~h): specificity\n",
    "        \"\"\"\n",
    "        assert np.isclose(tp + fn, 1)\n",
    "        assert np.isclose(tn + fp, 1)\n",
    "        self.tp = tp\n",
    "        self.fn = fn\n",
    "        self.fp = fp\n",
    "        self.tn = tn\n",
    "    \n",
    "    def update_pos(self, prior: float) -> float:\n",
    "        num = self.tp * prior\n",
    "        den = self.tp * prior + self.fp * (1 - prior)\n",
    "        return num / den\n",
    "    \n",
    "    def update_neg(self, prior: float) -> float:\n",
    "        num = self.tn * prior\n",
    "        den = self.tn * prior + self.fn * (1-prior)\n",
    "        return num / den"
   ]
  },
  {
   "cell_type": "code",
   "execution_count": null,
   "id": "289b8f41-f263-4e9b-8b26-1f568c526fb7",
   "metadata": {},
   "outputs": [],
   "source": [
    "m = Model(tp=0.8, fn=0.2, fp=0.35, tn=0.65)\n",
    "\n",
    "h = 0.2\n",
    "hs_pos = [h]\n",
    "hs_neg = [1-h]\n",
    "for _ in range(3):\n",
    "    hs_pos.append(m.update_pos(prior=hs_pos[-1]))\n",
    "    hs_neg.append(m.update_neg(prior=hs_neg[-1]))\n",
    "\n",
    "hs_pos, hs_neg"
   ]
  }
 ],
 "metadata": {
  "kernelspec": {
   "display_name": "Python 3 (ipykernel)",
   "language": "python",
   "name": "python3"
  },
  "language_info": {
   "codemirror_mode": {
    "name": "ipython",
    "version": 3
   },
   "file_extension": ".py",
   "mimetype": "text/x-python",
   "name": "python",
   "nbconvert_exporter": "python",
   "pygments_lexer": "ipython3",
   "version": "3.10.6"
  }
 },
 "nbformat": 4,
 "nbformat_minor": 5
}
