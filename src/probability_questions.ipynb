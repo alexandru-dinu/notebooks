{
 "cells": [
  {
   "cell_type": "markdown",
   "id": "9fe3c995-03ea-416d-a84a-af6bddf67d94",
   "metadata": {},
   "source": [
    "## Probability & Statistics Questions\n",
    "\n",
    "Some questions are taken from https://huyenchip.com/ml-interviews-book"
   ]
  },
  {
   "cell_type": "code",
   "execution_count": null,
   "id": "6e542bbd-93c0-4bcf-ad12-9b8e5d7eaf41",
   "metadata": {},
   "outputs": [],
   "source": [
    "from dataclasses import dataclass\n",
    "import numpy as np\n",
    "import matplotlib.pyplot as plt\n",
    "import seaborn as sns\n",
    "from typing import *\n",
    "import pandas as pd\n",
    "from tqdm import trange\n",
    "\n",
    "%matplotlib inline\n",
    "%config InlineBackend.figure_format = 'retina'\n",
    "sns.set()"
   ]
  },
  {
   "cell_type": "markdown",
   "id": "f4ae34c7-0811-43d1-bd5c-a913a618131d",
   "metadata": {},
   "source": [
    "---"
   ]
  },
  {
   "cell_type": "markdown",
   "id": "a7d530cb-127c-487f-9f02-fbe12567e48b",
   "metadata": {},
   "source": [
    "#### Given $n$ samples from a uniform distribution over $[0,d]$, how do you estimate $d$?\n",
    "Also known as the [German tank problem](https://en.wikipedia.org/wiki/German_tank_problem)"
   ]
  },
  {
   "cell_type": "code",
   "execution_count": null,
   "id": "20c1488e-15de-47c0-b23d-7ac000217b5a",
   "metadata": {},
   "outputs": [],
   "source": [
    "Estimator = Callable[[np.ndarray], float]\n",
    "\n",
    "class World:\n",
    "    def __init__(self, *, d: int, n: int, replacement: bool = False):\n",
    "        self.d = d\n",
    "        self.n = n\n",
    "        self.replacement = replacement\n",
    "        self.estimators: Dict[str, Estimator] = {}\n",
    "    \n",
    "    def add_estimator(self, name: str, est: Estimator):\n",
    "        self.estimators[name] = est\n",
    "    \n",
    "    def sample(self) -> np.ndarray:\n",
    "        return np.random.choice(\n",
    "            np.arange(1, self.d+1), \n",
    "            replace=self.replacement, \n",
    "            size=self.n\n",
    "        )\n",
    "\n",
    "    def run_estimators(self):\n",
    "        xs = self.sample()\n",
    "        return {name: est(xs) for (name, est) in self.estimators.items()}\n",
    "\n",
    "def mean_estimator(xs: np.ndarray) -> float:\n",
    "    \"\"\"\n",
    "    E[X] = μ = d/2 => 2 * mean(xs) ~ d\n",
    "    \"\"\"\n",
    "    return np.round(2 * np.mean(xs)).astype(int)\n",
    "    \n",
    "def max_estimator(xs: np.ndarray) -> float:\n",
    "    \"\"\"\n",
    "    P(max(xs) != d) = (1 - 1/d) ** len(xs)\n",
    "    \"\"\"\n",
    "    return np.max(xs)\n",
    "\n",
    "def umvu_estimator(xs: np.ndarray) -> float:\n",
    "    m = np.max(xs)\n",
    "    n = len(xs)\n",
    "    return m + (m - n) / n"
   ]
  },
  {
   "cell_type": "code",
   "execution_count": null,
   "id": "35cc1f77-1ca3-436d-97cc-6d83c93a3e26",
   "metadata": {},
   "outputs": [],
   "source": [
    "d = 100\n",
    "n = 20\n",
    "\n",
    "w = World(d=d, n=n, replacement=False)\n",
    "\n",
    "w.add_estimator('mean', mean_estimator)\n",
    "w.add_estimator('max', max_estimator)\n",
    "w.add_estimator('umvu', umvu_estimator)\n",
    "\n",
    "df = []\n",
    "N = 10_000\n",
    "for _ in range(N):\n",
    "    df.append(w.run_estimators())\n",
    "df = pd.DataFrame(df)"
   ]
  },
  {
   "cell_type": "code",
   "execution_count": null,
   "id": "292cf701-b3fc-426b-8a29-68d25fa0fa57",
   "metadata": {},
   "outputs": [],
   "source": [
    "# average gap between sorted samples is ~ d/n\n",
    "\n",
    "d = 300\n",
    "n = 50\n",
    "\n",
    "w = World(d=d, n=n, replacement=False)\n",
    "\n",
    "xs = np.sort(w.sample())\n",
    "gaps = xs[1:] - xs[:-1]\n",
    "np.mean(gaps), d / n"
   ]
  },
  {
   "cell_type": "markdown",
   "id": "5adc3c34-1c13-471a-ad85-b7357b638c65",
   "metadata": {},
   "source": [
    "---"
   ]
  },
  {
   "cell_type": "code",
   "execution_count": null,
   "id": "ac639395-5b71-4997-99d6-7798b3feb816",
   "metadata": {},
   "outputs": [],
   "source": [
    "from sympy import primepi\n",
    "from sympy.ntheory import isprime\n",
    "from math import log10"
   ]
  },
  {
   "cell_type": "code",
   "execution_count": null,
   "id": "71a28707-7650-4a9d-ae57-e627e688a1f8",
   "metadata": {},
   "outputs": [],
   "source": [
    "def π(k):\n",
    "    return k / log10(k)\n",
    "\n",
    "def p(k):\n",
    "    if k == 1:\n",
    "        return 4/10\n",
    "    else:\n",
    "        top = π(10**k) - π(10**(k-1))\n",
    "        bot = 9 * 10**(k-1)\n",
    "        return top / bot\n",
    "    \n",
    "ps = [(1 - p(k)) for k in range(1, 309)]\n",
    "np.product(ps)\n",
    "plt.plot(ps)"
   ]
  },
  {
   "cell_type": "code",
   "execution_count": null,
   "id": "85c00c85-8f27-4dcd-b5c6-82aa612892b8",
   "metadata": {},
   "outputs": [],
   "source": [
    "r = lambda: np.random.randint(0, 10, 1).item()\n",
    "        \n",
    "def experiment() -> int:\n",
    "    g = r()\n",
    "    steps = 1\n",
    "    \n",
    "    while not isprime(g):\n",
    "        g = g * 10 + r()\n",
    "        if g >= 2**64:\n",
    "            return np.infty\n",
    "        \n",
    "        # print(g)\n",
    "        steps += 1\n",
    "        \n",
    "    return steps\n",
    "\n",
    "N = 1_000_000\n",
    "trials = np.array([experiment() for _ in trange(N)])"
   ]
  },
  {
   "cell_type": "code",
   "execution_count": null,
   "id": "b45f82db-f1ac-4d3f-ac77-da8be3105947",
   "metadata": {},
   "outputs": [],
   "source": [
    "10 ** 19 < 2**64"
   ]
  },
  {
   "cell_type": "code",
   "execution_count": null,
   "id": "fa9c0afe-ffde-4a71-bfa9-5c5a877d7574",
   "metadata": {},
   "outputs": [],
   "source": [
    "def n_digit_primes(n):\n",
    "    top = primepi(10**n) - primepi(10**(n-1))\n",
    "    bot = 10 if n == 1 else 9 * 10**(n-1)\n",
    "    return top / bot\n",
    "\n",
    "xs = range(1, 13)\n",
    "plt.plot(xs, [n_digit_primes(i) for i in xs], linestyle='--', marker='o')\n",
    "plt.xticks(xs)\n",
    "pass"
   ]
  },
  {
   "cell_type": "code",
   "execution_count": null,
   "id": "12aef290-5804-47e8-b78b-e3b23669b701",
   "metadata": {},
   "outputs": [],
   "source": [
    "plt.figure(figsize=(14, 5))\n",
    "x, f = np.unique(trials[trials != np.infty], return_counts=True)\n",
    "f = f / f.sum()\n",
    "\n",
    "p_est = 1 / np.dot(x, f)\n",
    "print(p_est)\n",
    "\n",
    "plt.stem(x, f, linefmt='C0:', markerfmt='C0o')\n",
    "\n",
    "x, f = np.unique(np.random.geometric(p_est, size=N), return_counts=True)\n",
    "f = f / f.sum()\n",
    "plt.stem(x, f, linefmt='C1:', markerfmt='C1o')\n",
    "pass"
   ]
  },
  {
   "cell_type": "code",
   "execution_count": null,
   "id": "929ebc76-868d-472a-9b9b-4d4d79f724fe",
   "metadata": {},
   "outputs": [],
   "source": []
  }
 ],
 "metadata": {
  "kernelspec": {
   "display_name": "Python 3 (ipykernel)",
   "language": "python",
   "name": "python3"
  },
  "language_info": {
   "codemirror_mode": {
    "name": "ipython",
    "version": 3
   },
   "file_extension": ".py",
   "mimetype": "text/x-python",
   "name": "python",
   "nbconvert_exporter": "python",
   "pygments_lexer": "ipython3",
   "version": "3.10.6"
  }
 },
 "nbformat": 4,
 "nbformat_minor": 5
}
