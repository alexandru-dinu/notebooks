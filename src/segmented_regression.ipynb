{
 "cells": [
  {
   "cell_type": "markdown",
   "id": "a32eecff-250a-4de9-878a-af0af26ce679",
   "metadata": {},
   "source": [
    "### Segmented Regression\n",
    "\n",
    "Problem: [Laptop Battery Life](https://www.hackerrank.com/challenges/battery/problem)"
   ]
  },
  {
   "cell_type": "code",
   "execution_count": null,
   "id": "a22a0b6d-4d6f-47f8-b17a-df6ec8d8758c",
   "metadata": {},
   "outputs": [],
   "source": [
    "import os\n",
    "import sys\n",
    "from pathlib import Path\n",
    "\n",
    "import pandas as pd\n",
    "import numpy as np\n",
    "\n",
    "import matplotlib.pyplot as plt\n",
    "import seaborn as sns\n",
    "\n",
    "%matplotlib inline\n",
    "%config InlineBackend.figure_format = 'retina'\n",
    "sns.set()"
   ]
  },
  {
   "cell_type": "code",
   "execution_count": null,
   "id": "d5ab608b-4efa-4cd6-a2ca-c0a8bbb1b674",
   "metadata": {},
   "outputs": [],
   "source": [
    "df = pd.read_csv('../data/trainingdata.txt', names=['t_charged', 't_lasted'])\n",
    "print(f\"{len(df) = }\")\n",
    "plt.figure(figsize=(12, 4))\n",
    "sns.scatterplot(data=df, x='t_charged', y='t_lasted')\n",
    "pass"
   ]
  },
  {
   "cell_type": "markdown",
   "id": "e3319fdc-535f-4bf8-8204-7ceeb1db8339",
   "metadata": {},
   "source": [
    "Assumption: there is a breakpoint $B$ after which the predictions are constant, i.e. no matter how much longer you charge the laptop, it'll last for the same amount of time.\n",
    "\n",
    "$\n",
    "y(x) = \n",
    "\\begin{cases} \n",
    "  \\eta_1 + \\beta_1 \\cdot x & x \\in [0,B] \\\\\n",
    "  8 & x > B\n",
    "\\end{cases}\n",
    "$\n",
    "\n",
    "This class of problems can be solved using [segmented regression](https://en.wikipedia.org/wiki/Segmented_regression) (piecewise linear regression), by finding the optimal breakpoints.\n",
    "\n",
    "One way of finding the breakpoint (when we know in advance how many of them are) is to solve \n",
    "the following optimization problem:\n",
    "> Search for the breakpoint $b_i \\in \\overline{x_1, \\dots, x_n}$ that minimize the SSR.\n",
    "\n",
    "Note that,\n",
    "> + In the determination of the most suitable trend, statistical tests must be performed to ensure that this trend is reliable (significant).\n",
    "> + When no significant breakpoint can be detected, one must fall back on a regression without breakpoint. \n",
    "\n",
    "References: \n",
    "+ https://jekel.me/2018/Continous-piecewise-linear-regression/ uses [Differential evolution](https://en.wikipedia.org/wiki/Differential_evolution)"
   ]
  }
 ],
 "metadata": {
  "kernelspec": {
   "display_name": "Python 3 (ipykernel)",
   "language": "python",
   "name": "python3"
  },
  "language_info": {
   "codemirror_mode": {
    "name": "ipython",
    "version": 3
   },
   "file_extension": ".py",
   "mimetype": "text/x-python",
   "name": "python",
   "nbconvert_exporter": "python",
   "pygments_lexer": "ipython3",
   "version": "3.10.6"
  }
 },
 "nbformat": 4,
 "nbformat_minor": 5
}
