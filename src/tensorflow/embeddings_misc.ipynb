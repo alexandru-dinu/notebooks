{
 "cells": [
  {
   "cell_type": "code",
   "execution_count": null,
   "metadata": {},
   "outputs": [],
   "source": [
    "from tqdm import tqdm\n",
    "import time\n",
    "\n",
    "import sklearn.preprocessing as pre\n",
    "from scipy.spatial.distance import cosine\n",
    "\n",
    "import numpy as np"
   ]
  },
  {
   "cell_type": "markdown",
   "metadata": {},
   "source": [
    "### Check scaling effect on embeddings"
   ]
  },
  {
   "cell_type": "code",
   "execution_count": null,
   "metadata": {},
   "outputs": [],
   "source": [
    "def closest_to(w, idx, dist_func):\n",
    "    x = np.array(list(map(lambda u: dist_func(w[idx], u), w)))\n",
    "    a = np.argsort(x)\n",
    "    return a, x[a]"
   ]
  },
  {
   "cell_type": "code",
   "execution_count": null,
   "metadata": {},
   "outputs": [],
   "source": [
    "W = np.float64(np.random.rand(100, 2))\n",
    "\n",
    "print(W.dtype)\n",
    "\n",
    "W.min(), W.max(), W.mean(), W.std()"
   ]
  },
  {
   "cell_type": "code",
   "execution_count": null,
   "metadata": {},
   "outputs": [],
   "source": [
    "s = pre.StandardScaler()\n",
    "\n",
    "# sW = np.float64(s.fit_transform(W))\n",
    "\n",
    "sW = W / W.std() - W.mean() / W.std()\n",
    "\n",
    "print(sW.dtype)\n",
    "\n",
    "sW.min(), sW.max(), sW.mean(), sW.std()"
   ]
  },
  {
   "cell_type": "code",
   "execution_count": null,
   "metadata": {},
   "outputs": [],
   "source": [
    "d = 4\n",
    "b = np.ones(d)\n",
    "np.linalg.norm(b) == np.sqrt(d)"
   ]
  },
  {
   "cell_type": "code",
   "execution_count": null,
   "metadata": {},
   "outputs": [],
   "source": [
    "i = 6\n",
    "m_cos = lambda x, y: 1 - np.dot(x, y) / np.linalg.norm(x) / np.linalg.norm(y)\n",
    "func = m_cos\n",
    "\n",
    "a1, s1 = closest_to(W, i, func)\n",
    "a1_m, s1_m = closest_to(W, i, cosine)\n",
    "\n",
    "a2, s2 = closest_to(sW, i, func)\n",
    "a2_m, s2_m = closest_to(sW, i, cosine)\n",
    "\n",
    "a1_m[:10], a2_m[:10]\n",
    "\n",
    "# with np.printoptions(precision=64, suppress=True):\n",
    "#         print(s1_m, s2_m)"
   ]
  },
  {
   "cell_type": "code",
   "execution_count": null,
   "metadata": {},
   "outputs": [],
   "source": [
    "n = 5\n",
    "w = W[:n]\n",
    "sw = sW[:n]\n",
    "\n",
    "i = 0\n",
    "f = cosine\n",
    "x, _ = closest_to(w, i, f)\n",
    "y, _ = closest_to(sw, i, f)\n",
    "\n",
    "print(x)\n",
    "print(y)\n",
    "\n",
    "origin = [0], [0]\n",
    "\n",
    "fig = plt.figure(figsize=(20, 10))\n",
    "\n",
    "plt.subplot(1, 2, 1)\n",
    "ax = sns.scatterplot(w[:, 0], w[:, 1], color='r')\n",
    "for i in range(n):\n",
    "    ax.text(w[i][0], w[i][1], str(i), fontsize=14, horizontalalignment='left')\n",
    "plt.quiver(*origin, w[:, 0], w[:,1], color='r', angles='xy', scale_units='xy', scale=1, width=0.002)\n",
    "\n",
    "\n",
    "ax = plt.subplot(1, 2, 2)\n",
    "ax = sns.scatterplot(sw[:, 0], sw[:, 1], color='b')\n",
    "for i in range(n):\n",
    "    ax.text(sw[i][0], sw[i][1], str(i), fontsize=14, horizontalalignment='left')\n",
    "plt.quiver(*origin, sw[:, 0], sw[:,1], color='b', angles='xy', scale_units='xy', scale=1, width=0.002)\n",
    "    \n",
    "plt.show()"
   ]
  }
 ],
 "metadata": {
  "kernelspec": {
   "display_name": "Python 3",
   "language": "python",
   "name": "python3"
  },
  "language_info": {
   "codemirror_mode": {
    "name": "ipython",
    "version": 3
   },
   "file_extension": ".py",
   "mimetype": "text/x-python",
   "name": "python",
   "nbconvert_exporter": "python",
   "pygments_lexer": "ipython3",
   "version": "3.7.4"
  }
 },
 "nbformat": 4,
 "nbformat_minor": 4
}
