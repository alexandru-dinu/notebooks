{
 "cells": [
  {
   "cell_type": "code",
   "execution_count": null,
   "id": "4ca01250-6327-4c77-8084-0f3d239cd846",
   "metadata": {},
   "outputs": [],
   "source": [
    "import os\n",
    "import sys\n",
    "from pathlib import Path\n",
    "\n",
    "import pandas as pd\n",
    "import numpy as np\n",
    "\n",
    "import matplotlib.pyplot as plt\n",
    "import seaborn as sns\n",
    "from mpl_toolkits.mplot3d import Axes3D\n",
    "\n",
    "from sklearn.datasets import make_regression\n",
    "from sklearn.model_selection import (\n",
    "    KFold, cross_val_score, train_test_split,\n",
    "    GridSearchCV\n",
    ")\n",
    "import xgboost as xgb\n",
    "\n",
    "%matplotlib ipympl\n",
    "# %config InlineBackend.figure_format = 'retina'\n",
    "# sns.set()"
   ]
  },
  {
   "cell_type": "markdown",
   "id": "4ad7e087-379e-42c6-b1b2-ed3a6901efa0",
   "metadata": {},
   "source": [
    "### Generate regression data"
   ]
  },
  {
   "cell_type": "code",
   "execution_count": null,
   "id": "56676614-b9e1-4638-adfd-5cddff906a4e",
   "metadata": {},
   "outputs": [],
   "source": [
    "X, y, coef = make_regression(\n",
    "    n_samples=100,\n",
    "    n_features=2,\n",
    "    n_informative=2,\n",
    "    n_targets=1,\n",
    "    noise=0.1,\n",
    "    coef=True # return the coef of the underlying linear model\n",
    ")\n",
    "coef"
   ]
  },
  {
   "cell_type": "code",
   "execution_count": null,
   "id": "d9870455-b01e-4e86-8b2a-51346152a363",
   "metadata": {},
   "outputs": [],
   "source": [
    "fig=plt.figure()\n",
    "ax = fig.add_subplot(111, projection='3d')\n",
    "\n",
    "cols = 'r'\n",
    "\n",
    "ax.scatter(\n",
    "    X[:, 0], X[:, 1], y,\n",
    "    facecolor=(0,0,1,0), s=10, c=X[:, 1], cmap=plt.cm.jet\n",
    ")"
   ]
  },
  {
   "cell_type": "markdown",
   "id": "ff144411-dd91-4cd4-a117-0d12654ade22",
   "metadata": {},
   "source": [
    "---"
   ]
  },
  {
   "cell_type": "code",
   "execution_count": null,
   "id": "648825c3-822d-4078-b5e5-9426a730dc5d",
   "metadata": {},
   "outputs": [],
   "source": [
    "X_train, X_test, y_train, y_test = train_test_split(\n",
    "    X, y, test_size=0.25, random_state=17\n",
    ")"
   ]
  },
  {
   "cell_type": "code",
   "execution_count": null,
   "id": "2720e7d2-c8a4-442b-98eb-08cb0b39b9d0",
   "metadata": {},
   "outputs": [],
   "source": [
    "params = {\n",
    "    'n_estimators': 20,\n",
    "    'max_depth': 4,\n",
    "    'learning_rate': 0.2,\n",
    "    'colsample_bytree': 1,\n",
    "    'objective': 'reg:squarederror'\n",
    "}\n",
    "model = xgb.XGBRegressor(**params)\n",
    "\n",
    "scores = cross_val_score(\n",
    "    model, X_train, y_train, \n",
    "    scoring='r2',\n",
    "    cv=KFold(n_splits=5)\n",
    ")\n",
    "print(np.abs(scores))\n",
    "\n",
    "model.fit(X_train, y_train)\n",
    "rmse = np.sqrt(np.mean((model.predict(X_test) - y_test) ** 2))\n",
    "r2 = model.score(X_test, y_test)\n",
    "print(f\"{rmse = }\")\n",
    "print(f\"{r2 = }\")"
   ]
  },
  {
   "cell_type": "code",
   "execution_count": null,
   "id": "ff412ba2-c496-478c-9963-62f883ee59ec",
   "metadata": {},
   "outputs": [],
   "source": [
    "params_base = {\n",
    "    'colsample_bytree': 1,\n",
    "    'objective': 'reg:squarederror',\n",
    "    'max_depth': 1,\n",
    "}\n",
    "model = xgb.XGBRegressor(**params_base)\n",
    "\n",
    "param_grid = {\n",
    "    # 'max_depth': [1, 4, 10],\n",
    "    'learning_rate': [0.05, 0.2, 0.5, 0.8],\n",
    "    'n_estimators': [1, 2, 4]\n",
    "}\n",
    "clf = GridSearchCV(model, param_grid, cv=5)\n",
    "clf.fit(X_train, y_train)"
   ]
  },
  {
   "cell_type": "code",
   "execution_count": null,
   "id": "a071c74b-d610-4480-b2b5-932907aaee6b",
   "metadata": {},
   "outputs": [],
   "source": [
    "scores = clf.cv_results_['mean_test_score'].reshape(4, 3)\n",
    "\n",
    "sns.heatmap(scores)\n",
    "plt.grid(False)\n",
    "plt.xlabel('lr')\n",
    "plt.ylabel('n_est')\n",
    "plt.xticks(np.arange(4), labels=param_grid['learning_rate'])\n",
    "plt.yticks(np.arange(3), labels=param_grid['n_estimators'])\n",
    "pass"
   ]
  },
  {
   "cell_type": "code",
   "execution_count": null,
   "id": "1dd0a56f-8e13-4e47-9fa1-17db0a683a00",
   "metadata": {},
   "outputs": [],
   "source": [
    "i = 6\n",
    "m = clf.cv_results_['mean_test_score'][i]\n",
    "\n",
    "np.mean([clf.cv_results_[f\"split{k}_test_score\"][i] for k in range(5)]), m"
   ]
  }
 ],
 "metadata": {
  "kernelspec": {
   "display_name": "Python 3 (ipykernel)",
   "language": "python",
   "name": "python3"
  },
  "language_info": {
   "codemirror_mode": {
    "name": "ipython",
    "version": 3
   },
   "file_extension": ".py",
   "mimetype": "text/x-python",
   "name": "python",
   "nbconvert_exporter": "python",
   "pygments_lexer": "ipython3",
   "version": "3.9.9"
  }
 },
 "nbformat": 4,
 "nbformat_minor": 5
}
