{
 "cells": [
  {
   "cell_type": "code",
   "execution_count": 2,
   "id": "019e59d9-3bf1-4fc6-93ad-cf00ba93ffbd",
   "metadata": {},
   "outputs": [],
   "source": [
    "from functools import partial"
   ]
  },
  {
   "cell_type": "code",
   "execution_count": 3,
   "id": "7bf4ea4e-d68b-411d-b52e-375bd2b8b3b6",
   "metadata": {},
   "outputs": [],
   "source": [
    "def debug(func=None, *, prefix=\"\"):\n",
    "    if func is None:\n",
    "        print(\"func is None\")\n",
    "        return partial(debug, prefix=prefix)\n",
    "\n",
    "    msg = prefix + func.__name__\n",
    "\n",
    "    def wrapper(*args, **kwargs):\n",
    "        print(msg)\n",
    "        return func(*args, **kwargs)\n",
    "\n",
    "    return wrapper"
   ]
  },
  {
   "cell_type": "code",
   "execution_count": 4,
   "id": "581d1c4e-3e05-4c43-a367-2e3e38a9a3fa",
   "metadata": {},
   "outputs": [
    {
     "name": "stdout",
     "output_type": "stream",
     "text": [
      "func is None\n",
      "***add\n"
     ]
    },
    {
     "data": {
      "text/plain": [
       "3"
      ]
     },
     "execution_count": 4,
     "metadata": {},
     "output_type": "execute_result"
    }
   ],
   "source": [
    "def add(x, y):\n",
    "    return x + y\n",
    "\n",
    "\n",
    "debug(prefix=\"***\")(add)(1, 2)"
   ]
  },
  {
   "cell_type": "code",
   "execution_count": 5,
   "id": "42de3f5b-a78f-45aa-949d-6ebc2ace92cc",
   "metadata": {},
   "outputs": [
    {
     "name": "stdout",
     "output_type": "stream",
     "text": [
      "func is None\n",
      "***add2\n"
     ]
    },
    {
     "data": {
      "text/plain": [
       "10"
      ]
     },
     "execution_count": 5,
     "metadata": {},
     "output_type": "execute_result"
    }
   ],
   "source": [
    "@debug(prefix=\"***\")\n",
    "def add2(x, y):\n",
    "    return x + y\n",
    "\n",
    "\n",
    "add2(1, 9)"
   ]
  },
  {
   "cell_type": "markdown",
   "id": "5061d910-186d-4132-b8f1-9194c1550ccb",
   "metadata": {},
   "source": [
    "---"
   ]
  },
  {
   "cell_type": "code",
   "execution_count": 5,
   "id": "47ae1a08-6c0c-4b8d-aa09-1e306f09e313",
   "metadata": {},
   "outputs": [],
   "source": [
    "def debug(prefix=\"\"):\n",
    "    def inner(func):\n",
    "        def wrapper(*args, **kwargs):\n",
    "            print(prefix + func.__qualname__)\n",
    "            return func(*args, **kwargs)\n",
    "\n",
    "        return wrapper\n",
    "\n",
    "    return inner"
   ]
  },
  {
   "cell_type": "code",
   "execution_count": 6,
   "id": "6a649d7c-e438-4c7d-ad7f-e6a21afd9997",
   "metadata": {},
   "outputs": [
    {
     "name": "stdout",
     "output_type": "stream",
     "text": [
      "***add\n"
     ]
    },
    {
     "data": {
      "text/plain": [
       "3"
      ]
     },
     "execution_count": 6,
     "metadata": {},
     "output_type": "execute_result"
    }
   ],
   "source": [
    "def add(x, y):\n",
    "    return x + y\n",
    "\n",
    "\n",
    "debug(prefix=\"***\")(add)(1, 2)"
   ]
  },
  {
   "cell_type": "code",
   "execution_count": 7,
   "id": "47e03831-80c3-478b-82f4-2dab28505b8d",
   "metadata": {},
   "outputs": [
    {
     "name": "stdout",
     "output_type": "stream",
     "text": [
      "***add2\n"
     ]
    },
    {
     "data": {
      "text/plain": [
       "10"
      ]
     },
     "execution_count": 7,
     "metadata": {},
     "output_type": "execute_result"
    }
   ],
   "source": [
    "@debug(prefix=\"***\")\n",
    "def add2(x, y):\n",
    "    return x + y\n",
    "\n",
    "\n",
    "add2(1, 9)"
   ]
  }
 ],
 "metadata": {
  "kernelspec": {
   "display_name": "Python 3 (ipykernel)",
   "language": "python",
   "name": "python3"
  },
  "language_info": {
   "codemirror_mode": {
    "name": "ipython",
    "version": 3
   },
   "file_extension": ".py",
   "mimetype": "text/x-python",
   "name": "python",
   "nbconvert_exporter": "python",
   "pygments_lexer": "ipython3",
   "version": "3.10.8"
  }
 },
 "nbformat": 4,
 "nbformat_minor": 5
}
